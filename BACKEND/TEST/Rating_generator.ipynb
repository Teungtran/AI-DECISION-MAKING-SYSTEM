{
 "cells": [
  {
   "cell_type": "code",
   "execution_count": 20,
   "metadata": {},
   "outputs": [
    {
     "name": "stderr",
     "output_type": "stream",
     "text": [
      "[nltk_data] Downloading package opinion_lexicon to\n",
      "[nltk_data]     C:\\Users\\Admin\\AppData\\Roaming\\nltk_data...\n",
      "[nltk_data]   Package opinion_lexicon is already up-to-date!\n",
      "[nltk_data] Downloading package stopwords to\n",
      "[nltk_data]     C:\\Users\\Admin\\AppData\\Roaming\\nltk_data...\n",
      "[nltk_data]   Package stopwords is already up-to-date!\n",
      "[nltk_data] Downloading package wordnet to\n",
      "[nltk_data]     C:\\Users\\Admin\\AppData\\Roaming\\nltk_data...\n",
      "[nltk_data]   Package wordnet is already up-to-date!\n",
      "[nltk_data] Downloading package punkt to\n",
      "[nltk_data]     C:\\Users\\Admin\\AppData\\Roaming\\nltk_data...\n",
      "[nltk_data]   Package punkt is already up-to-date!\n",
      "[nltk_data] Downloading package averaged_perceptron_tagger to\n",
      "[nltk_data]     C:\\Users\\Admin\\AppData\\Roaming\\nltk_data...\n",
      "[nltk_data]   Package averaged_perceptron_tagger is already up-to-\n",
      "[nltk_data]       date!\n"
     ]
    }
   ],
   "source": [
    "import pandas as pd\n",
    "import matplotlib.pyplot as plt\n",
    "import seaborn as sns\n",
    "import re\n",
    "import nltk\n",
    "from nltk.corpus import stopwords\n",
    "from nltk.corpus import opinion_lexicon\n",
    "nltk.download('opinion_lexicon')\n",
    "from nltk.tokenize import word_tokenize\n",
    "from nltk.stem import WordNetLemmatizer\n",
    "nltk.download('stopwords')\n",
    "nltk.download('wordnet')\n",
    "nltk.download('punkt')\n",
    "nltk.download('averaged_perceptron_tagger')\n",
    "from nltk.tag import pos_tag"
   ]
  },
  {
   "cell_type": "code",
   "execution_count": 22,
   "metadata": {},
   "outputs": [],
   "source": [
    "df = pd.read_csv(r\"C:\\Users\\Admin\\Downloads\\train.csv\\train.csv\", header=None)\n",
    "df.columns = ['sentiment', 'review']"
   ]
  },
  {
   "cell_type": "code",
   "execution_count": 23,
   "metadata": {},
   "outputs": [
    {
     "data": {
      "application/vnd.microsoft.datawrangler.viewer.v0+json": {
       "columns": [
        {
         "name": "index",
         "rawType": "int64",
         "type": "integer"
        },
        {
         "name": "sentiment",
         "rawType": "int64",
         "type": "integer"
        },
        {
         "name": "review",
         "rawType": "object",
         "type": "string"
        }
       ],
       "conversionMethod": "pd.DataFrame",
       "ref": "fa366e04-766e-4502-9982-5c25f83c7cd3",
       "rows": [
        [
         "0",
         "1",
         "Unfortunately, the frustration of being Dr. Goldberg's patient is a repeat of the experience I've had with so many other doctors in NYC -- good doctor, terrible staff.  It seems that his staff simply never answers the phone.  It usually takes 2 hours of repeated calling to get an answer.  Who has time for that or wants to deal with it?  I have run into this problem with many other doctors and I just don't get it.  You have office workers, you have patients with medical needs, why isn't anyone answering the phone?  It's incomprehensible and not work the aggravation.  It's with regret that I feel that I have to give Dr. Goldberg 2 stars."
        ],
        [
         "1",
         "2",
         "Been going to Dr. Goldberg for over 10 years. I think I was one of his 1st patients when he started at MHMG. He's been great over the years and is really all about the big picture. It is because of him, not my now former gyn Dr. Markoff, that I found out I have fibroids. He explores all options with you and is very patient and understanding. He doesn't judge and asks all the right questions. Very thorough and wants to be kept in the loop on every aspect of your medical health and your life."
        ],
        [
         "2",
         "1",
         "I don't know what Dr. Goldberg was like before  moving to Arizona, but let me tell you, STAY AWAY from this doctor and this office. I was going to Dr. Johnson before he left and Goldberg took over when Johnson left. He is not a caring doctor. He is only interested in the co-pay and having you come in for medication refills every month. He will not give refills and could less about patients's financial situations. Trying to get your 90 days mail away pharmacy prescriptions through this guy is a joke. And to make matters even worse, his office staff is incompetent. 90% of the time when you call the office, they'll put you through to a voice mail, that NO ONE ever answers or returns your call. Both my adult children and husband have decided to leave this practice after experiencing such frustration. The entire office has an attitude like they are doing you a favor. Give me a break! Stay away from this doc and the practice. You deserve better and they will not be there when you really need them. I have never felt compelled to write a bad review about anyone until I met this pathetic excuse for a doctor who is all about the money."
        ],
        [
         "3",
         "1",
         "I'm writing this review to give you a heads up before you see this Doctor. The office staff and administration are very unprofessional. I left a message with multiple people regarding my bill, and no one ever called me back. I had to hound them to get an answer about my bill. \\n\\nSecond, and most important, make sure your insurance is going to cover Dr. Goldberg's visits and blood work. He recommended to me that I get a physical, and he knew I was a student because I told him. I got the physical done. Later, I found out my health insurance doesn't pay for preventative visits. I received an $800.00 bill for the blood work. I can't pay for my bill because I'm a student and don't have any cash flow at this current time. I can't believe the Doctor wouldn't give me a heads up to make sure my insurance would cover work that wasn't necessary and was strictly preventative. The office can't do anything to help me cover the bill. In addition, the office staff said the onus is on me to make sure my insurance covers visits. Frustrating situation!"
        ],
        [
         "4",
         "2",
         "All the food is great here. But the best thing they have is their wings. Their wings are simply fantastic!!  The \\\"Wet Cajun\\\" are by the best & most popular.  I also like the seasoned salt wings.  Wing Night is Monday & Wednesday night, $0.75 whole wings!\\n\\nThe dining area is nice. Very family friendly! The bar is very nice is well.  This place is truly a Yinzer's dream!!  \\\"Pittsburgh Dad\\\" would love this place n'at!!"
        ],
        [
         "5",
         "1",
         "Wing sauce is like water. Pretty much a lot of butter and some hot sauce (franks red hot maybe).  The whole wings are good size and crispy, but for $1 a wing the sauce could be better. The hot and extra hot are about the same flavor/heat.  The fish sandwich is good and is a large portion, sides are decent."
        ],
        [
         "6",
         "1",
         "Owning a driving range inside the city limits is like a license to print money.  I don't think I ask much out of a driving range.  Decent mats, clean balls and accessible hours.  Hell you need even less people now with the advent of the machine that doles out the balls.  This place has none of them.  It is april and there are no grass tees yet.  BTW they opened for the season this week although it has been golfing weather for a month.  The mats look like the carpet at my 107 year old aunt Irene's house.  Worn and thread bare.  Let's talk about the hours.  This place is equipped with lights yet they only sell buckets of balls until 730.  It is still light out.  Finally lets you have the pit to hit into.  When I arrived I wasn't sure if this was a driving range or an excavation site for a mastodon or a strip mining operation.  There is no grass on the range. Just mud.  Makes it a good tool to figure out how far you actually are hitting the ball.  Oh, they are cash only also.\\n\\nBottom line, this place sucks.  The best hope is that the owner sells it to someone that actually wants to make money and service golfers in Pittsburgh."
        ],
        [
         "7",
         "1",
         "This place is absolute garbage...  Half of the tees are not available, including all the grass tees.  It is cash only, and they sell the last bucket at 8, despite having lights.  And if you finish even a minute after 8, don't plan on getting a drink.  The vending machines are sold out (of course) and they sell drinks inside, but close the drawers at 8 on the dot.  There are weeds grown all over the place.  I noticed some sort of batting cage, but it looks like those are out of order as well.  Someone should buy this place and turn it into what it should be."
        ],
        [
         "8",
         "2",
         "Before I finally made it over to this range I heard the same thing from most people - it's just fine to go work on your swing. I had such a low expectation I was pleasantly surprised. \\n\\nIt's a fairly big range - if you are familiar with Scally's in Moon, it seems like it has almost as many tees, though its not nearly as nice a facility. \\n\\nThe guys in the pro shop were two of the friendlier guys I've come across at ranges or at courses. Yards were indeed marked and there are some targets to aim for, and even some hazards to aim away from. \\n\\nA big red flag to me was the extra charge ($3) to hit off the grass. I am no range expert, but this is the 4th one I've been to and the first I've seen of that sort of nickel and diming....\\n\\nPrice for the golf balls was reasonable and I do plan to be back every week until they close up in October for the season. Hopefully, since its for sale, it will reopen as a golf facility again."
        ],
        [
         "9",
         "2",
         "I drove by yesterday to get a sneak peak.  It re-opens on July 14th and I can't wait to take my kids.  The new range looks amazing.  The entire range appears to be turf, which may or many not help your game, but it looks really nice.  The tee boxes look state of the art and the club house looks like something you'll see on a newer course.  Can't wait to experience it!"
        ],
        [
         "10",
         "1",
         "After waiting for almost 30 minutes to trade in an old phone part of the buy back program, our customer service rep incorrectly processed the transaction. This led to us waiting another 30 minutes for him to correct it. Don't visit this store if you want pleasant or good service."
        ],
        [
         "11",
         "2",
         "Wonderful reuben.  Map shown on Yelp page is incorrect. It is actually a different Hawkins.  I'd recommend a call for directions 412-271-9911."
        ],
        [
         "12",
         "2",
         "After a morning of Thrift Store hunting, a friend and I were thinking of lunch, and he suggested Emil's after he'd seen Chris Sebak do a bit on it and had tried it a time or two before, and I had not. He said they had a decent Reuben, but to be prepared to step back in time.\\n\\nWell, seeing as how I'm kind of addicted to late 40's and early 50's, and the whole Rat Pack scene, stepping back in time is a welcomed change in da burgh...as long as it doesn't involve 1979, which I can see all around me every day.\\n\\nAnd yet another shot at finding a decent Reuben in da burgh...well, that's like hunting the Holy Grail. So looking under one more bush certainly wouldn't hurt.\\n\\nSo off we go right at lunchtime in the middle of...where exactly were we? At first I thought we were lost, driving around a handful of very rather dismal looking blocks in what looked like a neighborhood that had been blighted by the building of a highway. And then...AHA! Here it is! And yep, there it was. This little unassuming building with an add-on entrance with what looked like a very old hand painted sign stating quite simply 'Emil's. \\n\\nWe walked in the front door, and entered another world. Another time, and another place. Oh, and any Big Burrito/Sousa foodies might as well stop reading now. I wouldn't want to see you walk in, roll your eyes and say 'Reaaaaaalllly?'\\n\\nThis is about as old world bar/lounge/restaurant as it gets. Plain, with a dark wood bar on one side, plain white walls with no yinzer pics, good sturdy chairs and actual white linens on the tables. This is the kind of neighborhood dive that I could see Frank and Dino pulling a few tables together for some poker, a fish sammich, and some cheap scotch. And THAT is exactly what I love.\\n\\nOh...but good food counts too. \\n\\nWe each had a Reuben, and my friend had a side of fries. The Reubens were decent, but not NY awesome. A little too thick on the bread, but overall, tasty and definitely filling. Not too skimpy on the meat. I seriously CRAVE a true, good NY Reuben, but since I can't afford to travel right now, what I find in da burgh will have to do. But as we sat and ate, burgers came out to an adjoining table. Those were some big thick burgers. A steak went past for the table behind us. That was HUGE! And when we asked about it, the waitress said 'Yeah, it's huge and really good, and he only charges $12.99 for it, ain't that nuts?' Another table of five came in, and wham. Fish sandwiches PILED with breaded fish that looked amazing. Yeah, I want that, that, that and THAT!\\n\\nMy friend also mentioned that they have a Chicken Parm special one day of the week that is only served UNTIL 4 pm, and that it is fantastic. If only I could GET there on that week day before 4...\\n\\nThe waitress did a good job, especially since there was quite a growing crowd at lunchtime on a Saturday, and only one of her. She kept up and was very friendly. \\n\\nThey only have Pepsi products, so I had a brewed iced tea, which was very fresh, and she did pop by to ask about refills as often as she could. As the lunch hour went on, they were getting busy.\\n\\nEmil's is no frills, good portions, very reasonable prices, VERY comfortable neighborhood hole in the wall...kind of like Cheers, but in a blue collar neighborhood in the 1950's. Fan-freakin-tastic! I could feel at home here.\\n\\nYou definitely want to hit Mapquest or plug in your GPS though. I am not sure that I could find it again on my own...it really is a hidden gem. I will be making my friend take me back until I can memorize where the heck it is.\\n\\nAddendum: 2nd visit for the fish sandwich. Excellent. Truly. A pound of fish on a fish-shaped bun (as opposed to da burgh's seemingly popular hamburger bun). The fish was flavorful, the batter excellent, and for just $8. This may have been the best fish sandwich I've yet to have in da burgh."
        ],
        [
         "13",
         "2",
         "This is a hidden gem, no really. It took us forever to find but well worth it. It is right across the street from the Rankin Police Station. The menu has a wide selection, I really couldn't decide what I wanted but I went with the ribeye sandwich. I'm glad i did too. Huge sandwich! I added mushrooms, it was very flavorful. My boyfriend got the fish sandwich, he enjoyed it as well. Fast and friendly service. Will definitely be back."
        ],
        [
         "14",
         "2",
         "Awesome drink specials during happy hour. Fantastic wings that are crispy and delicious, wing night on Tuesday and Thursday!"
        ],
        [
         "15",
         "1",
         "Very disappointed in the customer service. We ordered Reuben's  and wanted coleslaw instead of kraut. They charged us $3.00 for the coleslaw. We will not be back . The iced tea is also terrible tasting."
        ],
        [
         "16",
         "1",
         "Used to go there for tires, brakes, etc.  Their prices have gone way up-$400 for 4 mid-level tires for a Toyota.  Plus, 1 of the new tires went flat within 3 weeks.  Since they don\\\"t make appointments,  the wait to get the tire looked at was ~2 hours.  Sorry--can't wait that long to get a warranted repair,  They lost my business for good."
        ],
        [
         "17",
         "1",
         "I got 'new' tires from them and within two weeks got a flat. I took my car to a local mechanic to see if i could get the hole patched, but they said the reason I had a flat was because the previous patch had blown - WAIT, WHAT? I just got the tire and never needed to have it patched? This was supposed to be a new tire. \\nI took the tire over to Flynn's and they told me that someone punctured my tire, then tried to patch it. So there are resentful tire slashers? I find that very unlikely. After arguing with the guy and telling him that his logic was far fetched he said he'd give me a new tire \\\"this time\\\". \\nI will never go back to Flynn's b/c of the way this guy treated me and the simple fact that they gave me a used tire!"
        ],
        [
         "18",
         "1",
         "Terrible. Preordered my tires and when I arrived they couldn't find the order anywhere. Once we got through that process I waited over 2 hours for them to be put on... I was originally told it would take 30 mins. Slow, over priced, I'll go elsewhere next time."
        ],
        [
         "19",
         "2",
         "I've been informed by a fellow Yelper that they are just closed for the season, I hope they're right! I find it strange they don't keep their phone number in service with a recording and that they didn't cover the course up to protect it from weather, vandalism, etc. Either way, I can't wait to get my game on in the spring!"
        ],
        [
         "20",
         "1",
         "Don't waste your time.  We had two different people come to our house to give us estimates for a deck (one of them the OWNER).  Both times, we never heard from them.  Not a call, not the estimate, nothing."
        ],
        [
         "21",
         "1",
         "I will start by saying we have a nice new deck. That is where the good part ends.\\n\\nWhy two stars if we have a nice deck now? Well, it all started in May when we had a man named Al come out and talk to us about the process. He was a true salesman, I'll tell you that. Not a straight shooter, but an excited salesman that wanted to sell... And we bought into it.\\n\\nHe told us they were backed up with the harsh winter and a lot of jobs, but they could probably start by June 24th. Mind you, this was the end of May we met with him. He said they would have to do a survey of our land and get a permit from Dormont before they started. We felt confident in going with them, and booked it.\\n\\nHere's where things fell apart. Weeks went by with no word from them on the process. Finally I called and left messages. Al finally got in touch with me and the conversation was utterly confusing. He must have not understood me because he just kept talking in circles. So I hung up not knowing what was going on. Finally I called back and the admin told me that the survey could take a couple weeks to come back. I wish Al would have told us that.\\n\\nSo our June 24th date came and went. We finally got our survey. And they were quick to bill us for it, but no word on where we were in the process. I called back a couple times with no real answers from the admin. Apparently they were now waiting for the permit from Dormont.\\n\\nA month later, I was frustrated and asked to speak with someone at the company. I spoke with someone who told me that Dormont usually takes a week to process the permit, but we were now going on a month. He told me he would bug the guy about it and we finally got it. \\n\\nI completely understand that waiting on the permit is not their fault, but why no communication about it? Just call me and tell me they're waiting for the permit, but they'll work towards asking Dormont what the hold up is. Seems simple.\\n\\nFinally we get the permit and work is supposed to start. Tuesday comes and they have to wait for approval from Dormont on holes they're digging. So holes are dug and equipment is put in my backyard and then nothing happens for two days. Where did everyone go? Who knows, because I wasn't informed! \\n\\nI was upset and contacted the company owner, Dave, by email. I told him how frustrated I was about the lack of communication. He wrote me two sentences that  said \\\"there will be acres there tomorrow morning to finish and most will be done tomorrow.\\\" Well, that didn't happen.\\n\\nThen two other dudes show up two days later and did work for about three hours and left. The main guy comes back the next day and says they did it wrong. So apparently the part about how they wouldn't need access to my house changes to they're drilling bolts into my house to secure he deck. \\n\\nFinally, the second week into construction, my tiny 10x11 foot deck is done. It was upsetting that they left the deck dirty, and all the dirt and cement they moved around wasn't cleaned up. I even asked them to fill all the holes they dug up and didn't use, and they only filled up one. When you create a construction project, isn't it just good business to clean it up and make it look nice? Didn't happen here.\\n\\nMy main point is, contractors have a reputation for not being the most trustworthy. Why be that company? Why not be an upstanding company that consumers can trust? My main issues with them were that things were not communicated to me properly up front, nor was the ongoing process communicated to me. Then they left everything unfinished in my eyes, leaving the site dirty. I understand things happen and things get delayed, but just email or call me. It's not that hard to keep me updated, it is 2014 with a million ways to be contacted.\\n\\nEven though I have a nice deck (after I clean things up myself!), I would not recommend them to anyone."
        ],
        [
         "22",
         "1",
         "Hoofah."
        ],
        [
         "23",
         "1",
         "Average run of the mill store.  Associates are young teens and they really don't know where anything is.  Luckily I am able to get around to find everything.  Found my puppy treats and moved on."
        ],
        [
         "24",
         "1",
         "Two meals, on the recommendation of a friend who lives near the place, and after the second trip, I was compelled to write. 'Rocky' would definitely describe the experiences.\\n\\nOn the first trip, I went to try their (at that time)raved about Reuben. And YET to find a true good Reuben in da burgh, I tried it.\\n\\nWell, they were out of the proper bread, and the guy had to run to the store to buy the closest thing he could find, which was not the proper bread, and instead of one of their 'raved about' Reubens, I received two mini-Reubens, which basically took the guts from one Reuben, and spread it out onto two sandwiches on regular sized bread. I ate it. It wasn't great, but they swore it was because they'd run out of the bread. Bread or not, it still wasn't great. The atmosphere was pleasant in that 'blue collar bar' kind of way, and the staff was very nice, but not a winning pitch on the Reuben.\\n\\nThe second trip was after a long day of moving furniture with the same friend. Sat in the back room, instead of the bar, which felt more like a restaurant, of course, with the big screen TV covering the sports of the moment.\\n\\nI was in the mood for dinner this time, and after a scan, decided on fried chicken and mashed potatoes with the salad bar. My friend ordered one of her faves, the breaded pork chops.\\n\\nWe hit the salad bar, which was uber-basic. Three soups (mostly vegetable loaded, which left me out), basic iceberg lettuce mix (very probably out of a bag), a few veggie toppings, and three or four dressings. It was a basic salad, no big deal. More or less an appetizer filler before the meal.\\n\\nThe mind-blower in this trip was the ordering of the fried chicken dinner. Our waiter looked like a 19 year old gas station attendant, skinny little blonde guy with a sweet but incredibly naive face, and an air of vapidity, which was confirmed when I placed my order. I asked what chicken pieces came in the dinner, and asked if it was possible to only get dark meat. I never imagined how confusing a question that could possibly be. It literally took him two trips back to the kitchen to 'ask', and the child honestly had no clue what 'white meat' and 'dark meat' meant. The first answer he came back with was that the chicken came in a pre-portioned prepared bag, kind of Kentucky Fried Chicken style...which didn't answer my question, thus prompting the second trip. \\n\\nAfter the second trip back I heard the cook holler 'Tell him I'll fix him up'. \\n\\nWell, the chicken was prepackaged dreck like you'd find in the freezer case of Walmart, tiny and not good, and the potatoes had that slight tinge of chem-spuds flavor, laden with some kind of chopped up green (parsley?), and a side of that basic brown gravy served up in 5 gallon buckets.\\n\\nThank goodness for the basic salad bar.\\n\\nEven my friend admitted that her pork chops were different and not what she'd expected. They also appeared to be from a freezer bag.\\n\\nThe irony was that the boy who didn't know white meat from dark meat, was chatting with some other customers...about baseball...and he was a genius about the mindless sport of baseball. Ahhhh da burgh.\\n\\nThird base? Nah...why bother when there are so many other options around. Go on in a grab a beer and chat black and gold if you happen to be in Carnegie...they can help you out all types of ways in that area. Just don't go hungry if you actually have tastebuds.\\n\\nFrom what I understand it 'used to be' really good homecooked food. But apparently, mama has left the kitchen."
        ],
        [
         "25",
         "2",
         "If you are searching for a go to fish place for Lent....look no further.  This place will give you the best fish sandwich in Pittsburgh.  The sandwich has enough fish to make four sandwiches.  You will not be able to finish this sandwich in one seating.\\nEnjoy...."
        ],
        [
         "26",
         "2",
         "Italian dinners, American, endless soup and salad bar is great. Most food for your dollar. I highly recommend. Great bar. Good place to watch a game. The bar can get quite noisy in the evenings, but it adds to the great atmosphere at Rocky's"
        ],
        [
         "27",
         "2",
         "Good Luck getting a seat, that's all I have to say. The Gab and Eat is famous and infamous. Diner food is what's up and I like it. When I was a roofing mechanic, we'd meet there before work. Although I'm not sure I would recommend it if you're working were there's no bathrooms. hehe"
        ],
        [
         "28",
         "2",
         "The biggest breakfast in Pittsburgh, as far as I can tell - and delicious and cheap too. I ordered some mix of eggs, bacon and pancakes - and got 2 dinner-sized plates, one loaded with pancakes and the other stuffed with eggs, bacon, and home fries. Oh, and a side of toast. For under $5, if I recall.\\n\\nHUGE portions, all well-executed; as good as DeLuca's.\\n\\nI've not had anything besides breakfast, so can't comment on the burger or anything else.\\n\\nCramped quarters, and you'll have to wait, but when nothing but monster morning food will do, this is the destination."
        ],
        [
         "29",
         "2",
         "Cheap, unpretentious, and, for this, one of my favorite breakfast joints in the country.  Simply put I LOVE it here.  The mixed grill, the sausage and egg on a biscuit, the home fries.  This it the very definition of diner.  Thank you Gab 'n' Eat!"
        ],
        [
         "30",
         "2",
         "I've lived in Pittsburgh for 6 years, and in Carnegie for over 2 years, and by far, this is the best greasy spoon joint I've found. If you can stomach the wait (no reservations, naturally), you'll enjoy overflowing plates of goodness, thanks to the well-seasoned griddle where all of the food is made. \\n\\nHere are the highlights:\\n\\n-Cheap: Breakfast for two can be well under $10, with lunch around the same.\\n-Crowded: Get there early and expect to wait. They close pretty early on the weekends too (oddly, at 12:45pm)\\n-Cash only\\n-Huge portions: When ordering fries or homefries, always get the half order, unless you're a lumberjack\\n-About those homefries: They're often undercooked. I've had better, believe me. My favorite things to eat in life are potato products.\\n-My favorite item: hot sausage sandwich on thick Italian toast, with cheese, lettuce, tomato and mayo"
        ],
        [
         "31",
         "2",
         "Definitely a greasy spoon! Always packed here and always a wait but worth it. The omelets are really tastey especially with their homemade sausage. I also like the mixed grill.  My parents love their burgers. Took off a star for lumpy booths and really tight tables (your arm gets hit when someone walks past) oh and waitresses aren't very attentive."
        ],
        [
         "32",
         "2",
         "Classic breakfast joint.  Grimy looking hole in the wall located on one end of a seedy looking strip mall.  Window is opaque due to the grease so you can't hardly see inside. On the outside, there are about a dozen people waiting to get in.  When you finally do get inside, you see that there are 15 tables and a counter, all occupied by people from all walks of life.\\n\\nWhat's the attraction behind this flea hole?  The FOOD!  Lots of it and dirt cheap.  I sat at a vacant stool behind the formica counter and ordered the mixed grill.  Potatoes, eggs, sausage, bacon and Italian toast.  A giant mound of food guaranteed to sooth any hangover.  I swear the full mixed grill had two pounds of food.  Neat thing is that the grill is right in front of you so you can see your potatoes and eggs frying in a pool of fresh grease.  All that food, plus coffee and tip for around ten bucks.  Cash only, so put that plastic away.\\n\\nOnly bad thing that could happen is some douche bag from the Food Network or Travel Channel will make this place famous, and then I'll never be able to get in."
        ],
        [
         "33",
         "2",
         "Best breakfast spot in the area, If you like diner food it is the place to go. Small, so you will want to avoid the church crowd on Sundays, but the wait is never too long.  Everyone is friendly and has obviously been working there for a while.  If you are feeling like lunch food go a little later, their burgers are made on the breakfast griddle and are delicious."
        ],
        [
         "34",
         "2",
         "I always love a good diner.  Gab and Eat was just what we were looking for on a Saturday morning.  Good food.  Great people. Pittsburgh ambiance. \\n\\nThis place is obviously a beloved neighborhood gem.  I had french toast and bacon.  The french toast was made with the best Italian bread.  My fiance had what they called a 'mixed grill.\\\"  It consisted of eggs, peppers, onions and home made sausage.  Not something you would eat everyday, but he loved it!   They also had great coffee.  They actually ground up the beans in front of us.  Now that's fresh.\\n\\nWe want to return sometime for \\\"turkey day.\\\"  Apparently they made fresh turkey every Tuesday.  Now that sounds good!\\n\\nCan't wait to return."
        ],
        [
         "35",
         "2",
         "Barb's Country Junction gets a 5 star rating for me because it is truly everything that a Pittsburgh restaurant should be.  In addition to being the apple of my nostalgia's eye, it is also the constant thought of my tummy when I'm hungry on the weekends.  \\n\\nBarb's breakfasts cannot be beat, but truly any meal you get there you won't regret.  Everything is made to order, with fair portions, and great prices. My recommendation is a breakfast sandwich on a bagel and a coffee.  There's nothing better than drinking from a cup that could have come from your grandma's kitchen.\\n\\nI know that Gab N Eat is nearby, and Barb's can be a little weird get to with the strange traffic pattern but this really is a gem of Carnegie that you've gotta try!"
        ],
        [
         "36",
         "2",
         "Great little place. Treats you like a local.Eaten here 3 times a week for a month.  Same overtime. Barb is always here."
        ],
        [
         "37",
         "1",
         "My first time going to Barb's Country Junction and I really wanted to like this place, I really did...however, I didn't.\\n\\nThe food was decent, some was above average and some below but it was overall decent. I got pancakes, bacon and eggs. The pancakes were really good and fluffy, the home fries were simply okay and the eggs were not cooked well. My son had a burger and it was good. The coffee at this place was brewed to perfection which a appreciate. I would give the food 3/5.\\n\\nThe service was subpar for sure. While our waitress was a really nice girl, she wasn't on top of anything at all. Had to ask for coffee refills, had to ask for silverware, for napkins...etc. She got the order messed up and so on. I give the service 2/5.\\n\\nThe inside of the place had some country charm as you'd expect but want particularly cleanly. It also had a leaky roof in several places which had buckets collecting the water. A customer even tripped over the buckets and fell. I give the interior 2/5.\\n\\nThe prices were decent. I fed my whole family breakfast (3 of us) for $23. I give the prices 3/5.\\n\\nSo in summary, you can get okay food here for a rather cheap price but it is not a great place to dine in by any means. There are better diners in the area that I will patronize in the future rather than Barb's."
        ],
        [
         "38",
         "2",
         "I've stayed at a couple of Extended Stay sites that I found quite satisfactory and this location proved to be just as good. Excellent place to stay while visiting Pittsburgh. It is just a five minute drive to downtown. Location is in a business park area so it is quiet. \\n\\nThe rooms contain a nice kitchenette area with a full sized refrigerator, sink, cabinets and two burners. There is no oven which I expected as the descriptions all state \\\"full kitchen\\\" so be aware of that. Also they do not keep the dishes, pots and pans, coffee makers, toasters or utensils in the rooms. If you want them you have to request them at the desk during check in. \\n\\nThe room was clean and well maintained. Cable tv quality is spotty sometimes but not intolerable. The free wifi is usually fast. \\n\\nThe best part about this location was the staff. The people at the desk were all very pleasant and welcoming and quite willing to assist with any questions or issues with a smile.  I would definitely stay at this location again and highly recommend it."
        ],
        [
         "39",
         "1",
         "If I could give this place less than one star, I would. I have no idea who gave this place high reviews but they must either own the place or be time travelers from back in the day when this place might not have sucked. The decor is tired and grimy, the place reeked of smoke, and the bartender/server was surly, to put it mildly. We went there on a Saturday night with a mind to try the Irish food. Apparently, we were out of luck. I've always thought that the secrets of restaurant success is to actually stock food for people to eat. He told us before we ordered that they had no \\\"pies\\\". No chicken pot pie, no shepherds pie, etc. So, we gamely tried to order other things. We placed our order. My wife, for example, ordered the Irish stew and he came back 5 min later telling us they were out of that and even more things for several people in our party. At that point my wife picked out a third option, ham and cabbage, only to be told again that \\\"they were out\\\". At that point, realizing that the only food to be had in the place was what was crusted on the menus, we asked to pay for our drinks and left. They actually then gave us flack for not having enough to put it on a debit card. In short, unless you like your dinner with a side of disappointment and depression, I'd probably avoid this place like the plague. Speaking of the plague, I suppose we should thank Mr. Surly for inspiring us to walk out. I only have two bathrooms at my house and would've been hard pressed to accommodate several violently ill people at once."
        ],
        [
         "40",
         "1",
         "Okay, so hopefully you haven't been enjoying happy hour @ Riley's Pour House before you read this or you might not be able to follow the lilting Irish owners. \\n\\nTo recap: Murphy's Pour House from 1979-1985. Sullivan's Pour House from 1995-2002. Paddy's Pour House from 2002-2012. And, bagpipe please, Riley's Pour House opens March 1 of 2012. Still with me?\\n\\nIt's a tiny long bar just like the old Irish pubs. No more smoking allowed. Hurrah!!!  Same lousy service. \\n\\nMy guess is that the entire place needs (no, strike that .... demands) an automated food/beverage ticketing system. None of the cooks, bartenders, or waitresses know who ordered what nor what ticket belongs to which table. It's actually pretty funny if you're not a) hungry or b) thirsty. \\n\\nI really really want this place to do better. We need more Irish pubs and local old time watering holes. \\n\\nGet it together, Murphy's ... er, I mean Sullivan's....er, I mean Paddy's or is it Riley's? ;  ).  Whatever the case, they have cold Guinness. And Irish music.  And fun patrons."
        ],
        [
         "41",
         "1",
         "The delivery driver mistakenly rang my doorbell, having confused 133 and 113.\\n\\nRather than taking a step back and analyzing the situation, he begins to accuse my wife and I of ordering and refusing to pay for this pizza.\\n\\nThe driver then gets on his cell phone and rather than calling the number than was given when the order was placed, begins to call his bosses and starts threatening me with felony charges. \\n\\nSo I take the initiative and ask the fine upstanding gentleman what the phone number of the order-er was, phone my neighbor and discover the mistake. Rather than a thank you or a sorry, he just speeds off (breaking the speed limit on our block) to reach his destination 50 feet away.\\n\\nI would call to complain, but based on the other reviews, its clear the owners do not care about Carnegie or it's residents, and its pretty well known around town just how awful their food is, so it would be pointless to boycott a place I'd never order from again anyway.\\n\\nDo yourself a favor and order from ANY other establishment in town."
        ],
        [
         "42",
         "1",
         "Some of the worst pizza I've ever had.  We used a coupon from the paper for a 2 topping 8 cut Sicilian. First of all the pizza wasn't even cut through, and the sad attempt at cutting was so uneven that 4 of the slices were about an inch wide, while the others were about 4\\\" each. The toppings were scarce, they used mini pepperoni and put maybe 8 on the whole pizza. The onions were huge chunks and the mushrooms were straight from a can. The worst part though was the thick doughy crust that tasted more like a fishy sourdough roll. I'm serious... It was so noticeable that it made me wonder if the dough was bad or if they for some weird reason put fish sauce in it. It was gross. \\n\\nWe also ordered steak and Italian hoagies. The veggies were old and wilted, and there was no dressing on either. The Italian had deli meat that was clearly bottom of the line and not very generous. The \\\"steak\\\" (if you an call it that) was greyish instead of brown and looked like it was a processed meat chopped into pieces. No flavor or seasoning and the texture was reminiscent of spam. It was so bad that I only ate 1/4 of it and tossed the rest. \\n\\nI have ordered from here in the past and always been disappointed. I thought I would give them another try since I'd never ordered a Sicilian pizza from there. What a mistake. I will never order from them again!"
        ],
        [
         "43",
         "2",
         "Having certain businesses with skill sets in your local neighborhood is important.  I try to keep it as local as possible, so when I heard about a tailor in Carnegie I was intrigued.  The building is in a strip mall across from Carnegie Coffee Company.  Unassuming, looks like it is closed all the time, until you do a drive by and see the hours posted.  There is a Latino man in his 20's working when you arrive.  In my mind, I imagine a tailor to be older, kind of like my grandfather maybe with measuring tape around his neck (Textbook movie tailor), so I was a bit trepidatious about dropping off my clothing.  He asks you to go change into a closet (Yes, a closet to change in with one lightbulb) BUT all my worries aside, the moment he started working on my items I knew he was the real deal. He learned from his father at the age of 14 how to sew. and he does things the correct way.  Meaning, for example-  I took in a pair of khakis all the way down to the cuff, but he seamed them up to look EXACTLY the way they were when I first bought them.  Most placed will have bulges and puckers.  The rest of my items were just as perfect.  Very inexpensive at $10 for a pair of pants to adjust the hem.  The items were done in a timely manner.  He takes his business very seriously.  While I was there, I watched a lady rush in and demand 6 shirts to be altered in an hour, and he did it and charged the same price.  Really nice guy, please go and support this business to keep him around town!"
        ],
        [
         "44",
         "1",
         "By far the worst most unprofessional dentist I have ever experienced her staff is too busy watching soap operas on all the TVs in each room instead of cleaning and she gave me a filling which was too deep which could have been understandable as her son had his pictures delivered from Hawaii and she had to stop 3 times to pay for them and show her whole staff all of them must be nice to have a 14 year old go to Hawaii on her moms dime and have her patience wait to see all of this happen I had to have oral surgery and have the tooth removed because she put the filling in too deep an abscessed tooth was the result I wouldn't recommend her to an ex girlfriend or someone I hate because of the three months of extreme tooth pain I had to deal with because of her lack of care and follow through even after I called and asked them for advice and follow up they simply could care less and did not even offer to reschedule an appointment other than prescribing me vicodin and antibiotics do not recommend and do not go to her license should be pulled!!"
        ],
        [
         "45",
         "1",
         "In all fairness - I did not see this dentist but did schedule an appointment and waited 15 minutes for them to open.\\n\\nWhen I look at Yelp reviews, I usually weed out the outliers (the best and the worst).   Unfortunately, there are only two reviews.\\n\\nIt was my first time at the office.   The office admin (very nice) asked for me to come early (before 9am) to complete paperwork.   I arrived at 8:50.    I waited.   I watched 2 employees walk by me (unlocked the door and re-locked it).    They did not acknowledge me.\\n\\nThe door I was at had signage (open hours).    I decided to leave because of a review where the staff seemed distracted or disinterested in my presence.\\n\\nThe office admin (very nice) called me to inform I am missing my appointment.   I explained to her that there were too many indications where this was not going to be a good fit and wished her the best of luck.\\n\\nI recommend if you see this dentist you go to the front door (furthest away from the parking lot) for the entrance.\\n\\nPoor recommendation because the staff who walked by me seemed to be distracted which was pointed out in a previous review."
        ],
        [
         "46",
         "2",
         "This is by far the best dentist I have ever been to.  She is honest and never trys to sell you a bunch a stuff that you dont need. We are very great full that we discovered her. We adjust our vacations to make sure that we stop in to her office in Pennsylvania at least once a year for cleaning and check ups, worth the drive from Florida."
        ],
        [
         "47",
         "1",
         "I've been to this office a good amount of times.  Each time the receptionists give of a vibe of entitlement and it is very uncomfortable.  Dr. Weinberg herself is very nice, but I doubt her ability. Every procedure she has done to my teeth has backfired. The third and last issue I have is that i always paid cash at the end of my visits and somehow I have received an invoice for $55. I called and of course the receptionist was sassy and rude so I gave up. Will never go back or refer anyone else"
        ],
        [
         "48",
         "1",
         "Far away from real Chinese food. Doesn't even taste good as American style Chinese food."
        ],
        [
         "49",
         "1",
         "I used to order takeout here once every month or so. The food tastes average and the price is good. It's your typical low-end Chinese place. \\n\\nThe last (and final) time I ordered here I just so happened to be picking up my order while a health inspector from allegheny county health department was making his rounds. While I was waiting on my food (which took much longer than usual) the inspector was pointing out violations. He also requested a copy of a certificate that the man behind the register was unable to produce. The inspector looked at me like I was crazy for waiting on my food despite the obvious poor conditions.  \\n\\nAs for the rest of the place - it's always been kind of dirty inside. The carpets are just FILTHY and the walls match. There are always children's toys scattered about the floor because the owners children are always there, so be careful not to trip. \\n\\nThe workers do seem like nice people just trying to make a living but when it comes to cleanliness Don Don is lacking."
        ]
       ],
       "shape": {
        "columns": 2,
        "rows": 560000
       }
      },
      "text/html": [
       "<div>\n",
       "<style scoped>\n",
       "    .dataframe tbody tr th:only-of-type {\n",
       "        vertical-align: middle;\n",
       "    }\n",
       "\n",
       "    .dataframe tbody tr th {\n",
       "        vertical-align: top;\n",
       "    }\n",
       "\n",
       "    .dataframe thead th {\n",
       "        text-align: right;\n",
       "    }\n",
       "</style>\n",
       "<table border=\"1\" class=\"dataframe\">\n",
       "  <thead>\n",
       "    <tr style=\"text-align: right;\">\n",
       "      <th></th>\n",
       "      <th>sentiment</th>\n",
       "      <th>review</th>\n",
       "    </tr>\n",
       "  </thead>\n",
       "  <tbody>\n",
       "    <tr>\n",
       "      <th>0</th>\n",
       "      <td>1</td>\n",
       "      <td>Unfortunately, the frustration of being Dr. Go...</td>\n",
       "    </tr>\n",
       "    <tr>\n",
       "      <th>1</th>\n",
       "      <td>2</td>\n",
       "      <td>Been going to Dr. Goldberg for over 10 years. ...</td>\n",
       "    </tr>\n",
       "    <tr>\n",
       "      <th>2</th>\n",
       "      <td>1</td>\n",
       "      <td>I don't know what Dr. Goldberg was like before...</td>\n",
       "    </tr>\n",
       "    <tr>\n",
       "      <th>3</th>\n",
       "      <td>1</td>\n",
       "      <td>I'm writing this review to give you a heads up...</td>\n",
       "    </tr>\n",
       "    <tr>\n",
       "      <th>4</th>\n",
       "      <td>2</td>\n",
       "      <td>All the food is great here. But the best thing...</td>\n",
       "    </tr>\n",
       "    <tr>\n",
       "      <th>...</th>\n",
       "      <td>...</td>\n",
       "      <td>...</td>\n",
       "    </tr>\n",
       "    <tr>\n",
       "      <th>559995</th>\n",
       "      <td>2</td>\n",
       "      <td>Ryan was as good as everyone on yelp has claim...</td>\n",
       "    </tr>\n",
       "    <tr>\n",
       "      <th>559996</th>\n",
       "      <td>2</td>\n",
       "      <td>Professional \\nFriendly\\nOn time AND affordabl...</td>\n",
       "    </tr>\n",
       "    <tr>\n",
       "      <th>559997</th>\n",
       "      <td>1</td>\n",
       "      <td>Phone calls always go to voicemail and message...</td>\n",
       "    </tr>\n",
       "    <tr>\n",
       "      <th>559998</th>\n",
       "      <td>1</td>\n",
       "      <td>Looks like all of the good reviews have gone t...</td>\n",
       "    </tr>\n",
       "    <tr>\n",
       "      <th>559999</th>\n",
       "      <td>2</td>\n",
       "      <td>Ryan Rocks! I called him this morning for some...</td>\n",
       "    </tr>\n",
       "  </tbody>\n",
       "</table>\n",
       "<p>560000 rows × 2 columns</p>\n",
       "</div>"
      ],
      "text/plain": [
       "        sentiment                                             review\n",
       "0               1  Unfortunately, the frustration of being Dr. Go...\n",
       "1               2  Been going to Dr. Goldberg for over 10 years. ...\n",
       "2               1  I don't know what Dr. Goldberg was like before...\n",
       "3               1  I'm writing this review to give you a heads up...\n",
       "4               2  All the food is great here. But the best thing...\n",
       "...           ...                                                ...\n",
       "559995          2  Ryan was as good as everyone on yelp has claim...\n",
       "559996          2  Professional \\nFriendly\\nOn time AND affordabl...\n",
       "559997          1  Phone calls always go to voicemail and message...\n",
       "559998          1  Looks like all of the good reviews have gone t...\n",
       "559999          2  Ryan Rocks! I called him this morning for some...\n",
       "\n",
       "[560000 rows x 2 columns]"
      ]
     },
     "execution_count": 23,
     "metadata": {},
     "output_type": "execute_result"
    }
   ],
   "source": [
    "df"
   ]
  },
  {
   "cell_type": "markdown",
   "metadata": {},
   "source": [
    "## **EDA and Preprocessing**"
   ]
  },
  {
   "cell_type": "code",
   "execution_count": 24,
   "metadata": {},
   "outputs": [
    {
     "data": {
      "text/plain": [
       "False"
      ]
     },
     "execution_count": 24,
     "metadata": {},
     "output_type": "execute_result"
    }
   ],
   "source": [
    "df.dropna(inplace=True)\n",
    "df.isnull().values.any()\n"
   ]
  },
  {
   "cell_type": "code",
   "execution_count": 25,
   "metadata": {},
   "outputs": [
    {
     "name": "stdout",
     "output_type": "stream",
     "text": [
      "Average length of reviews: 133.0288732142857\n"
     ]
    }
   ],
   "source": [
    "total_length = sum(len(text.split()) for text in df['review'])\n",
    "avg_len = total_length / len(df['review'])\n",
    "print(f\"Average length of reviews: {avg_len}\")"
   ]
  },
  {
   "cell_type": "code",
   "execution_count": 26,
   "metadata": {},
   "outputs": [
    {
     "data": {
      "text/plain": [
       "<Axes: xlabel='sentiment', ylabel='count'>"
      ]
     },
     "execution_count": 26,
     "metadata": {},
     "output_type": "execute_result"
    },
    {
     "data": {
      "image/png": "[encoded data removed]",
      "text/plain": [
       "<Figure size 640x480 with 1 Axes>"
      ]
     },
     "metadata": {},
     "output_type": "display_data"
    }
   ],
   "source": [
    "sns.countplot(x='sentiment', data=df)\n"
   ]
  },
  {
   "cell_type": "code",
   "execution_count": 27,
   "metadata": {},
   "outputs": [
    {
     "data": {
      "application/vnd.microsoft.datawrangler.viewer.v0+json": {
       "columns": [
        {
         "name": "index",
         "rawType": "int64",
         "type": "integer"
        },
        {
         "name": "sentiment",
         "rawType": "int64",
         "type": "integer"
        },
        {
         "name": "review",
         "rawType": "object",
         "type": "string"
        }
       ],
       "conversionMethod": "pd.DataFrame",
       "ref": "f8c896b7-7f82-4395-8132-e6cb971f31d2",
       "rows": [
        [
         "0",
         "0",
         "Unfortunately, the frustration of being Dr. Goldberg's patient is a repeat of the experience I've had with so many other doctors in NYC -- good doctor, terrible staff.  It seems that his staff simply never answers the phone.  It usually takes 2 hours of repeated calling to get an answer.  Who has time for that or wants to deal with it?  I have run into this problem with many other doctors and I just don't get it.  You have office workers, you have patients with medical needs, why isn't anyone answering the phone?  It's incomprehensible and not work the aggravation.  It's with regret that I feel that I have to give Dr. Goldberg 2 stars."
        ],
        [
         "1",
         "1",
         "Been going to Dr. Goldberg for over 10 years. I think I was one of his 1st patients when he started at MHMG. He's been great over the years and is really all about the big picture. It is because of him, not my now former gyn Dr. Markoff, that I found out I have fibroids. He explores all options with you and is very patient and understanding. He doesn't judge and asks all the right questions. Very thorough and wants to be kept in the loop on every aspect of your medical health and your life."
        ],
        [
         "2",
         "0",
         "I don't know what Dr. Goldberg was like before  moving to Arizona, but let me tell you, STAY AWAY from this doctor and this office. I was going to Dr. Johnson before he left and Goldberg took over when Johnson left. He is not a caring doctor. He is only interested in the co-pay and having you come in for medication refills every month. He will not give refills and could less about patients's financial situations. Trying to get your 90 days mail away pharmacy prescriptions through this guy is a joke. And to make matters even worse, his office staff is incompetent. 90% of the time when you call the office, they'll put you through to a voice mail, that NO ONE ever answers or returns your call. Both my adult children and husband have decided to leave this practice after experiencing such frustration. The entire office has an attitude like they are doing you a favor. Give me a break! Stay away from this doc and the practice. You deserve better and they will not be there when you really need them. I have never felt compelled to write a bad review about anyone until I met this pathetic excuse for a doctor who is all about the money."
        ],
        [
         "3",
         "0",
         "I'm writing this review to give you a heads up before you see this Doctor. The office staff and administration are very unprofessional. I left a message with multiple people regarding my bill, and no one ever called me back. I had to hound them to get an answer about my bill. \\n\\nSecond, and most important, make sure your insurance is going to cover Dr. Goldberg's visits and blood work. He recommended to me that I get a physical, and he knew I was a student because I told him. I got the physical done. Later, I found out my health insurance doesn't pay for preventative visits. I received an $800.00 bill for the blood work. I can't pay for my bill because I'm a student and don't have any cash flow at this current time. I can't believe the Doctor wouldn't give me a heads up to make sure my insurance would cover work that wasn't necessary and was strictly preventative. The office can't do anything to help me cover the bill. In addition, the office staff said the onus is on me to make sure my insurance covers visits. Frustrating situation!"
        ],
        [
         "4",
         "1",
         "All the food is great here. But the best thing they have is their wings. Their wings are simply fantastic!!  The \\\"Wet Cajun\\\" are by the best & most popular.  I also like the seasoned salt wings.  Wing Night is Monday & Wednesday night, $0.75 whole wings!\\n\\nThe dining area is nice. Very family friendly! The bar is very nice is well.  This place is truly a Yinzer's dream!!  \\\"Pittsburgh Dad\\\" would love this place n'at!!"
        ],
        [
         "5",
         "0",
         "Wing sauce is like water. Pretty much a lot of butter and some hot sauce (franks red hot maybe).  The whole wings are good size and crispy, but for $1 a wing the sauce could be better. The hot and extra hot are about the same flavor/heat.  The fish sandwich is good and is a large portion, sides are decent."
        ],
        [
         "6",
         "0",
         "Owning a driving range inside the city limits is like a license to print money.  I don't think I ask much out of a driving range.  Decent mats, clean balls and accessible hours.  Hell you need even less people now with the advent of the machine that doles out the balls.  This place has none of them.  It is april and there are no grass tees yet.  BTW they opened for the season this week although it has been golfing weather for a month.  The mats look like the carpet at my 107 year old aunt Irene's house.  Worn and thread bare.  Let's talk about the hours.  This place is equipped with lights yet they only sell buckets of balls until 730.  It is still light out.  Finally lets you have the pit to hit into.  When I arrived I wasn't sure if this was a driving range or an excavation site for a mastodon or a strip mining operation.  There is no grass on the range. Just mud.  Makes it a good tool to figure out how far you actually are hitting the ball.  Oh, they are cash only also.\\n\\nBottom line, this place sucks.  The best hope is that the owner sells it to someone that actually wants to make money and service golfers in Pittsburgh."
        ],
        [
         "7",
         "0",
         "This place is absolute garbage...  Half of the tees are not available, including all the grass tees.  It is cash only, and they sell the last bucket at 8, despite having lights.  And if you finish even a minute after 8, don't plan on getting a drink.  The vending machines are sold out (of course) and they sell drinks inside, but close the drawers at 8 on the dot.  There are weeds grown all over the place.  I noticed some sort of batting cage, but it looks like those are out of order as well.  Someone should buy this place and turn it into what it should be."
        ],
        [
         "8",
         "1",
         "Before I finally made it over to this range I heard the same thing from most people - it's just fine to go work on your swing. I had such a low expectation I was pleasantly surprised. \\n\\nIt's a fairly big range - if you are familiar with Scally's in Moon, it seems like it has almost as many tees, though its not nearly as nice a facility. \\n\\nThe guys in the pro shop were two of the friendlier guys I've come across at ranges or at courses. Yards were indeed marked and there are some targets to aim for, and even some hazards to aim away from. \\n\\nA big red flag to me was the extra charge ($3) to hit off the grass. I am no range expert, but this is the 4th one I've been to and the first I've seen of that sort of nickel and diming....\\n\\nPrice for the golf balls was reasonable and I do plan to be back every week until they close up in October for the season. Hopefully, since its for sale, it will reopen as a golf facility again."
        ],
        [
         "9",
         "1",
         "I drove by yesterday to get a sneak peak.  It re-opens on July 14th and I can't wait to take my kids.  The new range looks amazing.  The entire range appears to be turf, which may or many not help your game, but it looks really nice.  The tee boxes look state of the art and the club house looks like something you'll see on a newer course.  Can't wait to experience it!"
        ],
        [
         "10",
         "0",
         "After waiting for almost 30 minutes to trade in an old phone part of the buy back program, our customer service rep incorrectly processed the transaction. This led to us waiting another 30 minutes for him to correct it. Don't visit this store if you want pleasant or good service."
        ],
        [
         "11",
         "1",
         "Wonderful reuben.  Map shown on Yelp page is incorrect. It is actually a different Hawkins.  I'd recommend a call for directions 412-271-9911."
        ],
        [
         "12",
         "1",
         "After a morning of Thrift Store hunting, a friend and I were thinking of lunch, and he suggested Emil's after he'd seen Chris Sebak do a bit on it and had tried it a time or two before, and I had not. He said they had a decent Reuben, but to be prepared to step back in time.\\n\\nWell, seeing as how I'm kind of addicted to late 40's and early 50's, and the whole Rat Pack scene, stepping back in time is a welcomed change in da burgh...as long as it doesn't involve 1979, which I can see all around me every day.\\n\\nAnd yet another shot at finding a decent Reuben in da burgh...well, that's like hunting the Holy Grail. So looking under one more bush certainly wouldn't hurt.\\n\\nSo off we go right at lunchtime in the middle of...where exactly were we? At first I thought we were lost, driving around a handful of very rather dismal looking blocks in what looked like a neighborhood that had been blighted by the building of a highway. And then...AHA! Here it is! And yep, there it was. This little unassuming building with an add-on entrance with what looked like a very old hand painted sign stating quite simply 'Emil's. \\n\\nWe walked in the front door, and entered another world. Another time, and another place. Oh, and any Big Burrito/Sousa foodies might as well stop reading now. I wouldn't want to see you walk in, roll your eyes and say 'Reaaaaaalllly?'\\n\\nThis is about as old world bar/lounge/restaurant as it gets. Plain, with a dark wood bar on one side, plain white walls with no yinzer pics, good sturdy chairs and actual white linens on the tables. This is the kind of neighborhood dive that I could see Frank and Dino pulling a few tables together for some poker, a fish sammich, and some cheap scotch. And THAT is exactly what I love.\\n\\nOh...but good food counts too. \\n\\nWe each had a Reuben, and my friend had a side of fries. The Reubens were decent, but not NY awesome. A little too thick on the bread, but overall, tasty and definitely filling. Not too skimpy on the meat. I seriously CRAVE a true, good NY Reuben, but since I can't afford to travel right now, what I find in da burgh will have to do. But as we sat and ate, burgers came out to an adjoining table. Those were some big thick burgers. A steak went past for the table behind us. That was HUGE! And when we asked about it, the waitress said 'Yeah, it's huge and really good, and he only charges $12.99 for it, ain't that nuts?' Another table of five came in, and wham. Fish sandwiches PILED with breaded fish that looked amazing. Yeah, I want that, that, that and THAT!\\n\\nMy friend also mentioned that they have a Chicken Parm special one day of the week that is only served UNTIL 4 pm, and that it is fantastic. If only I could GET there on that week day before 4...\\n\\nThe waitress did a good job, especially since there was quite a growing crowd at lunchtime on a Saturday, and only one of her. She kept up and was very friendly. \\n\\nThey only have Pepsi products, so I had a brewed iced tea, which was very fresh, and she did pop by to ask about refills as often as she could. As the lunch hour went on, they were getting busy.\\n\\nEmil's is no frills, good portions, very reasonable prices, VERY comfortable neighborhood hole in the wall...kind of like Cheers, but in a blue collar neighborhood in the 1950's. Fan-freakin-tastic! I could feel at home here.\\n\\nYou definitely want to hit Mapquest or plug in your GPS though. I am not sure that I could find it again on my own...it really is a hidden gem. I will be making my friend take me back until I can memorize where the heck it is.\\n\\nAddendum: 2nd visit for the fish sandwich. Excellent. Truly. A pound of fish on a fish-shaped bun (as opposed to da burgh's seemingly popular hamburger bun). The fish was flavorful, the batter excellent, and for just $8. This may have been the best fish sandwich I've yet to have in da burgh."
        ],
        [
         "13",
         "1",
         "This is a hidden gem, no really. It took us forever to find but well worth it. It is right across the street from the Rankin Police Station. The menu has a wide selection, I really couldn't decide what I wanted but I went with the ribeye sandwich. I'm glad i did too. Huge sandwich! I added mushrooms, it was very flavorful. My boyfriend got the fish sandwich, he enjoyed it as well. Fast and friendly service. Will definitely be back."
        ],
        [
         "14",
         "1",
         "Awesome drink specials during happy hour. Fantastic wings that are crispy and delicious, wing night on Tuesday and Thursday!"
        ],
        [
         "15",
         "0",
         "Very disappointed in the customer service. We ordered Reuben's  and wanted coleslaw instead of kraut. They charged us $3.00 for the coleslaw. We will not be back . The iced tea is also terrible tasting."
        ],
        [
         "16",
         "0",
         "Used to go there for tires, brakes, etc.  Their prices have gone way up-$400 for 4 mid-level tires for a Toyota.  Plus, 1 of the new tires went flat within 3 weeks.  Since they don\\\"t make appointments,  the wait to get the tire looked at was ~2 hours.  Sorry--can't wait that long to get a warranted repair,  They lost my business for good."
        ],
        [
         "17",
         "0",
         "I got 'new' tires from them and within two weeks got a flat. I took my car to a local mechanic to see if i could get the hole patched, but they said the reason I had a flat was because the previous patch had blown - WAIT, WHAT? I just got the tire and never needed to have it patched? This was supposed to be a new tire. \\nI took the tire over to Flynn's and they told me that someone punctured my tire, then tried to patch it. So there are resentful tire slashers? I find that very unlikely. After arguing with the guy and telling him that his logic was far fetched he said he'd give me a new tire \\\"this time\\\". \\nI will never go back to Flynn's b/c of the way this guy treated me and the simple fact that they gave me a used tire!"
        ],
        [
         "18",
         "0",
         "Terrible. Preordered my tires and when I arrived they couldn't find the order anywhere. Once we got through that process I waited over 2 hours for them to be put on... I was originally told it would take 30 mins. Slow, over priced, I'll go elsewhere next time."
        ],
        [
         "19",
         "1",
         "I've been informed by a fellow Yelper that they are just closed for the season, I hope they're right! I find it strange they don't keep their phone number in service with a recording and that they didn't cover the course up to protect it from weather, vandalism, etc. Either way, I can't wait to get my game on in the spring!"
        ],
        [
         "20",
         "0",
         "Don't waste your time.  We had two different people come to our house to give us estimates for a deck (one of them the OWNER).  Both times, we never heard from them.  Not a call, not the estimate, nothing."
        ],
        [
         "21",
         "0",
         "I will start by saying we have a nice new deck. That is where the good part ends.\\n\\nWhy two stars if we have a nice deck now? Well, it all started in May when we had a man named Al come out and talk to us about the process. He was a true salesman, I'll tell you that. Not a straight shooter, but an excited salesman that wanted to sell... And we bought into it.\\n\\nHe told us they were backed up with the harsh winter and a lot of jobs, but they could probably start by June 24th. Mind you, this was the end of May we met with him. He said they would have to do a survey of our land and get a permit from Dormont before they started. We felt confident in going with them, and booked it.\\n\\nHere's where things fell apart. Weeks went by with no word from them on the process. Finally I called and left messages. Al finally got in touch with me and the conversation was utterly confusing. He must have not understood me because he just kept talking in circles. So I hung up not knowing what was going on. Finally I called back and the admin told me that the survey could take a couple weeks to come back. I wish Al would have told us that.\\n\\nSo our June 24th date came and went. We finally got our survey. And they were quick to bill us for it, but no word on where we were in the process. I called back a couple times with no real answers from the admin. Apparently they were now waiting for the permit from Dormont.\\n\\nA month later, I was frustrated and asked to speak with someone at the company. I spoke with someone who told me that Dormont usually takes a week to process the permit, but we were now going on a month. He told me he would bug the guy about it and we finally got it. \\n\\nI completely understand that waiting on the permit is not their fault, but why no communication about it? Just call me and tell me they're waiting for the permit, but they'll work towards asking Dormont what the hold up is. Seems simple.\\n\\nFinally we get the permit and work is supposed to start. Tuesday comes and they have to wait for approval from Dormont on holes they're digging. So holes are dug and equipment is put in my backyard and then nothing happens for two days. Where did everyone go? Who knows, because I wasn't informed! \\n\\nI was upset and contacted the company owner, Dave, by email. I told him how frustrated I was about the lack of communication. He wrote me two sentences that  said \\\"there will be acres there tomorrow morning to finish and most will be done tomorrow.\\\" Well, that didn't happen.\\n\\nThen two other dudes show up two days later and did work for about three hours and left. The main guy comes back the next day and says they did it wrong. So apparently the part about how they wouldn't need access to my house changes to they're drilling bolts into my house to secure he deck. \\n\\nFinally, the second week into construction, my tiny 10x11 foot deck is done. It was upsetting that they left the deck dirty, and all the dirt and cement they moved around wasn't cleaned up. I even asked them to fill all the holes they dug up and didn't use, and they only filled up one. When you create a construction project, isn't it just good business to clean it up and make it look nice? Didn't happen here.\\n\\nMy main point is, contractors have a reputation for not being the most trustworthy. Why be that company? Why not be an upstanding company that consumers can trust? My main issues with them were that things were not communicated to me properly up front, nor was the ongoing process communicated to me. Then they left everything unfinished in my eyes, leaving the site dirty. I understand things happen and things get delayed, but just email or call me. It's not that hard to keep me updated, it is 2014 with a million ways to be contacted.\\n\\nEven though I have a nice deck (after I clean things up myself!), I would not recommend them to anyone."
        ],
        [
         "22",
         "0",
         "Hoofah."
        ],
        [
         "23",
         "0",
         "Average run of the mill store.  Associates are young teens and they really don't know where anything is.  Luckily I am able to get around to find everything.  Found my puppy treats and moved on."
        ],
        [
         "24",
         "0",
         "Two meals, on the recommendation of a friend who lives near the place, and after the second trip, I was compelled to write. 'Rocky' would definitely describe the experiences.\\n\\nOn the first trip, I went to try their (at that time)raved about Reuben. And YET to find a true good Reuben in da burgh, I tried it.\\n\\nWell, they were out of the proper bread, and the guy had to run to the store to buy the closest thing he could find, which was not the proper bread, and instead of one of their 'raved about' Reubens, I received two mini-Reubens, which basically took the guts from one Reuben, and spread it out onto two sandwiches on regular sized bread. I ate it. It wasn't great, but they swore it was because they'd run out of the bread. Bread or not, it still wasn't great. The atmosphere was pleasant in that 'blue collar bar' kind of way, and the staff was very nice, but not a winning pitch on the Reuben.\\n\\nThe second trip was after a long day of moving furniture with the same friend. Sat in the back room, instead of the bar, which felt more like a restaurant, of course, with the big screen TV covering the sports of the moment.\\n\\nI was in the mood for dinner this time, and after a scan, decided on fried chicken and mashed potatoes with the salad bar. My friend ordered one of her faves, the breaded pork chops.\\n\\nWe hit the salad bar, which was uber-basic. Three soups (mostly vegetable loaded, which left me out), basic iceberg lettuce mix (very probably out of a bag), a few veggie toppings, and three or four dressings. It was a basic salad, no big deal. More or less an appetizer filler before the meal.\\n\\nThe mind-blower in this trip was the ordering of the fried chicken dinner. Our waiter looked like a 19 year old gas station attendant, skinny little blonde guy with a sweet but incredibly naive face, and an air of vapidity, which was confirmed when I placed my order. I asked what chicken pieces came in the dinner, and asked if it was possible to only get dark meat. I never imagined how confusing a question that could possibly be. It literally took him two trips back to the kitchen to 'ask', and the child honestly had no clue what 'white meat' and 'dark meat' meant. The first answer he came back with was that the chicken came in a pre-portioned prepared bag, kind of Kentucky Fried Chicken style...which didn't answer my question, thus prompting the second trip. \\n\\nAfter the second trip back I heard the cook holler 'Tell him I'll fix him up'. \\n\\nWell, the chicken was prepackaged dreck like you'd find in the freezer case of Walmart, tiny and not good, and the potatoes had that slight tinge of chem-spuds flavor, laden with some kind of chopped up green (parsley?), and a side of that basic brown gravy served up in 5 gallon buckets.\\n\\nThank goodness for the basic salad bar.\\n\\nEven my friend admitted that her pork chops were different and not what she'd expected. They also appeared to be from a freezer bag.\\n\\nThe irony was that the boy who didn't know white meat from dark meat, was chatting with some other customers...about baseball...and he was a genius about the mindless sport of baseball. Ahhhh da burgh.\\n\\nThird base? Nah...why bother when there are so many other options around. Go on in a grab a beer and chat black and gold if you happen to be in Carnegie...they can help you out all types of ways in that area. Just don't go hungry if you actually have tastebuds.\\n\\nFrom what I understand it 'used to be' really good homecooked food. But apparently, mama has left the kitchen."
        ],
        [
         "25",
         "1",
         "If you are searching for a go to fish place for Lent....look no further.  This place will give you the best fish sandwich in Pittsburgh.  The sandwich has enough fish to make four sandwiches.  You will not be able to finish this sandwich in one seating.\\nEnjoy...."
        ],
        [
         "26",
         "1",
         "Italian dinners, American, endless soup and salad bar is great. Most food for your dollar. I highly recommend. Great bar. Good place to watch a game. The bar can get quite noisy in the evenings, but it adds to the great atmosphere at Rocky's"
        ],
        [
         "27",
         "1",
         "Good Luck getting a seat, that's all I have to say. The Gab and Eat is famous and infamous. Diner food is what's up and I like it. When I was a roofing mechanic, we'd meet there before work. Although I'm not sure I would recommend it if you're working were there's no bathrooms. hehe"
        ],
        [
         "28",
         "1",
         "The biggest breakfast in Pittsburgh, as far as I can tell - and delicious and cheap too. I ordered some mix of eggs, bacon and pancakes - and got 2 dinner-sized plates, one loaded with pancakes and the other stuffed with eggs, bacon, and home fries. Oh, and a side of toast. For under $5, if I recall.\\n\\nHUGE portions, all well-executed; as good as DeLuca's.\\n\\nI've not had anything besides breakfast, so can't comment on the burger or anything else.\\n\\nCramped quarters, and you'll have to wait, but when nothing but monster morning food will do, this is the destination."
        ],
        [
         "29",
         "1",
         "Cheap, unpretentious, and, for this, one of my favorite breakfast joints in the country.  Simply put I LOVE it here.  The mixed grill, the sausage and egg on a biscuit, the home fries.  This it the very definition of diner.  Thank you Gab 'n' Eat!"
        ],
        [
         "30",
         "1",
         "I've lived in Pittsburgh for 6 years, and in Carnegie for over 2 years, and by far, this is the best greasy spoon joint I've found. If you can stomach the wait (no reservations, naturally), you'll enjoy overflowing plates of goodness, thanks to the well-seasoned griddle where all of the food is made. \\n\\nHere are the highlights:\\n\\n-Cheap: Breakfast for two can be well under $10, with lunch around the same.\\n-Crowded: Get there early and expect to wait. They close pretty early on the weekends too (oddly, at 12:45pm)\\n-Cash only\\n-Huge portions: When ordering fries or homefries, always get the half order, unless you're a lumberjack\\n-About those homefries: They're often undercooked. I've had better, believe me. My favorite things to eat in life are potato products.\\n-My favorite item: hot sausage sandwich on thick Italian toast, with cheese, lettuce, tomato and mayo"
        ],
        [
         "31",
         "1",
         "Definitely a greasy spoon! Always packed here and always a wait but worth it. The omelets are really tastey especially with their homemade sausage. I also like the mixed grill.  My parents love their burgers. Took off a star for lumpy booths and really tight tables (your arm gets hit when someone walks past) oh and waitresses aren't very attentive."
        ],
        [
         "32",
         "1",
         "Classic breakfast joint.  Grimy looking hole in the wall located on one end of a seedy looking strip mall.  Window is opaque due to the grease so you can't hardly see inside. On the outside, there are about a dozen people waiting to get in.  When you finally do get inside, you see that there are 15 tables and a counter, all occupied by people from all walks of life.\\n\\nWhat's the attraction behind this flea hole?  The FOOD!  Lots of it and dirt cheap.  I sat at a vacant stool behind the formica counter and ordered the mixed grill.  Potatoes, eggs, sausage, bacon and Italian toast.  A giant mound of food guaranteed to sooth any hangover.  I swear the full mixed grill had two pounds of food.  Neat thing is that the grill is right in front of you so you can see your potatoes and eggs frying in a pool of fresh grease.  All that food, plus coffee and tip for around ten bucks.  Cash only, so put that plastic away.\\n\\nOnly bad thing that could happen is some douche bag from the Food Network or Travel Channel will make this place famous, and then I'll never be able to get in."
        ],
        [
         "33",
         "1",
         "Best breakfast spot in the area, If you like diner food it is the place to go. Small, so you will want to avoid the church crowd on Sundays, but the wait is never too long.  Everyone is friendly and has obviously been working there for a while.  If you are feeling like lunch food go a little later, their burgers are made on the breakfast griddle and are delicious."
        ],
        [
         "34",
         "1",
         "I always love a good diner.  Gab and Eat was just what we were looking for on a Saturday morning.  Good food.  Great people. Pittsburgh ambiance. \\n\\nThis place is obviously a beloved neighborhood gem.  I had french toast and bacon.  The french toast was made with the best Italian bread.  My fiance had what they called a 'mixed grill.\\\"  It consisted of eggs, peppers, onions and home made sausage.  Not something you would eat everyday, but he loved it!   They also had great coffee.  They actually ground up the beans in front of us.  Now that's fresh.\\n\\nWe want to return sometime for \\\"turkey day.\\\"  Apparently they made fresh turkey every Tuesday.  Now that sounds good!\\n\\nCan't wait to return."
        ],
        [
         "35",
         "1",
         "Barb's Country Junction gets a 5 star rating for me because it is truly everything that a Pittsburgh restaurant should be.  In addition to being the apple of my nostalgia's eye, it is also the constant thought of my tummy when I'm hungry on the weekends.  \\n\\nBarb's breakfasts cannot be beat, but truly any meal you get there you won't regret.  Everything is made to order, with fair portions, and great prices. My recommendation is a breakfast sandwich on a bagel and a coffee.  There's nothing better than drinking from a cup that could have come from your grandma's kitchen.\\n\\nI know that Gab N Eat is nearby, and Barb's can be a little weird get to with the strange traffic pattern but this really is a gem of Carnegie that you've gotta try!"
        ],
        [
         "36",
         "1",
         "Great little place. Treats you like a local.Eaten here 3 times a week for a month.  Same overtime. Barb is always here."
        ],
        [
         "37",
         "0",
         "My first time going to Barb's Country Junction and I really wanted to like this place, I really did...however, I didn't.\\n\\nThe food was decent, some was above average and some below but it was overall decent. I got pancakes, bacon and eggs. The pancakes were really good and fluffy, the home fries were simply okay and the eggs were not cooked well. My son had a burger and it was good. The coffee at this place was brewed to perfection which a appreciate. I would give the food 3/5.\\n\\nThe service was subpar for sure. While our waitress was a really nice girl, she wasn't on top of anything at all. Had to ask for coffee refills, had to ask for silverware, for napkins...etc. She got the order messed up and so on. I give the service 2/5.\\n\\nThe inside of the place had some country charm as you'd expect but want particularly cleanly. It also had a leaky roof in several places which had buckets collecting the water. A customer even tripped over the buckets and fell. I give the interior 2/5.\\n\\nThe prices were decent. I fed my whole family breakfast (3 of us) for $23. I give the prices 3/5.\\n\\nSo in summary, you can get okay food here for a rather cheap price but it is not a great place to dine in by any means. There are better diners in the area that I will patronize in the future rather than Barb's."
        ],
        [
         "38",
         "1",
         "I've stayed at a couple of Extended Stay sites that I found quite satisfactory and this location proved to be just as good. Excellent place to stay while visiting Pittsburgh. It is just a five minute drive to downtown. Location is in a business park area so it is quiet. \\n\\nThe rooms contain a nice kitchenette area with a full sized refrigerator, sink, cabinets and two burners. There is no oven which I expected as the descriptions all state \\\"full kitchen\\\" so be aware of that. Also they do not keep the dishes, pots and pans, coffee makers, toasters or utensils in the rooms. If you want them you have to request them at the desk during check in. \\n\\nThe room was clean and well maintained. Cable tv quality is spotty sometimes but not intolerable. The free wifi is usually fast. \\n\\nThe best part about this location was the staff. The people at the desk were all very pleasant and welcoming and quite willing to assist with any questions or issues with a smile.  I would definitely stay at this location again and highly recommend it."
        ],
        [
         "39",
         "0",
         "If I could give this place less than one star, I would. I have no idea who gave this place high reviews but they must either own the place or be time travelers from back in the day when this place might not have sucked. The decor is tired and grimy, the place reeked of smoke, and the bartender/server was surly, to put it mildly. We went there on a Saturday night with a mind to try the Irish food. Apparently, we were out of luck. I've always thought that the secrets of restaurant success is to actually stock food for people to eat. He told us before we ordered that they had no \\\"pies\\\". No chicken pot pie, no shepherds pie, etc. So, we gamely tried to order other things. We placed our order. My wife, for example, ordered the Irish stew and he came back 5 min later telling us they were out of that and even more things for several people in our party. At that point my wife picked out a third option, ham and cabbage, only to be told again that \\\"they were out\\\". At that point, realizing that the only food to be had in the place was what was crusted on the menus, we asked to pay for our drinks and left. They actually then gave us flack for not having enough to put it on a debit card. In short, unless you like your dinner with a side of disappointment and depression, I'd probably avoid this place like the plague. Speaking of the plague, I suppose we should thank Mr. Surly for inspiring us to walk out. I only have two bathrooms at my house and would've been hard pressed to accommodate several violently ill people at once."
        ],
        [
         "40",
         "0",
         "Okay, so hopefully you haven't been enjoying happy hour @ Riley's Pour House before you read this or you might not be able to follow the lilting Irish owners. \\n\\nTo recap: Murphy's Pour House from 1979-1985. Sullivan's Pour House from 1995-2002. Paddy's Pour House from 2002-2012. And, bagpipe please, Riley's Pour House opens March 1 of 2012. Still with me?\\n\\nIt's a tiny long bar just like the old Irish pubs. No more smoking allowed. Hurrah!!!  Same lousy service. \\n\\nMy guess is that the entire place needs (no, strike that .... demands) an automated food/beverage ticketing system. None of the cooks, bartenders, or waitresses know who ordered what nor what ticket belongs to which table. It's actually pretty funny if you're not a) hungry or b) thirsty. \\n\\nI really really want this place to do better. We need more Irish pubs and local old time watering holes. \\n\\nGet it together, Murphy's ... er, I mean Sullivan's....er, I mean Paddy's or is it Riley's? ;  ).  Whatever the case, they have cold Guinness. And Irish music.  And fun patrons."
        ],
        [
         "41",
         "0",
         "The delivery driver mistakenly rang my doorbell, having confused 133 and 113.\\n\\nRather than taking a step back and analyzing the situation, he begins to accuse my wife and I of ordering and refusing to pay for this pizza.\\n\\nThe driver then gets on his cell phone and rather than calling the number than was given when the order was placed, begins to call his bosses and starts threatening me with felony charges. \\n\\nSo I take the initiative and ask the fine upstanding gentleman what the phone number of the order-er was, phone my neighbor and discover the mistake. Rather than a thank you or a sorry, he just speeds off (breaking the speed limit on our block) to reach his destination 50 feet away.\\n\\nI would call to complain, but based on the other reviews, its clear the owners do not care about Carnegie or it's residents, and its pretty well known around town just how awful their food is, so it would be pointless to boycott a place I'd never order from again anyway.\\n\\nDo yourself a favor and order from ANY other establishment in town."
        ],
        [
         "42",
         "0",
         "Some of the worst pizza I've ever had.  We used a coupon from the paper for a 2 topping 8 cut Sicilian. First of all the pizza wasn't even cut through, and the sad attempt at cutting was so uneven that 4 of the slices were about an inch wide, while the others were about 4\\\" each. The toppings were scarce, they used mini pepperoni and put maybe 8 on the whole pizza. The onions were huge chunks and the mushrooms were straight from a can. The worst part though was the thick doughy crust that tasted more like a fishy sourdough roll. I'm serious... It was so noticeable that it made me wonder if the dough was bad or if they for some weird reason put fish sauce in it. It was gross. \\n\\nWe also ordered steak and Italian hoagies. The veggies were old and wilted, and there was no dressing on either. The Italian had deli meat that was clearly bottom of the line and not very generous. The \\\"steak\\\" (if you an call it that) was greyish instead of brown and looked like it was a processed meat chopped into pieces. No flavor or seasoning and the texture was reminiscent of spam. It was so bad that I only ate 1/4 of it and tossed the rest. \\n\\nI have ordered from here in the past and always been disappointed. I thought I would give them another try since I'd never ordered a Sicilian pizza from there. What a mistake. I will never order from them again!"
        ],
        [
         "43",
         "1",
         "Having certain businesses with skill sets in your local neighborhood is important.  I try to keep it as local as possible, so when I heard about a tailor in Carnegie I was intrigued.  The building is in a strip mall across from Carnegie Coffee Company.  Unassuming, looks like it is closed all the time, until you do a drive by and see the hours posted.  There is a Latino man in his 20's working when you arrive.  In my mind, I imagine a tailor to be older, kind of like my grandfather maybe with measuring tape around his neck (Textbook movie tailor), so I was a bit trepidatious about dropping off my clothing.  He asks you to go change into a closet (Yes, a closet to change in with one lightbulb) BUT all my worries aside, the moment he started working on my items I knew he was the real deal. He learned from his father at the age of 14 how to sew. and he does things the correct way.  Meaning, for example-  I took in a pair of khakis all the way down to the cuff, but he seamed them up to look EXACTLY the way they were when I first bought them.  Most placed will have bulges and puckers.  The rest of my items were just as perfect.  Very inexpensive at $10 for a pair of pants to adjust the hem.  The items were done in a timely manner.  He takes his business very seriously.  While I was there, I watched a lady rush in and demand 6 shirts to be altered in an hour, and he did it and charged the same price.  Really nice guy, please go and support this business to keep him around town!"
        ],
        [
         "44",
         "0",
         "By far the worst most unprofessional dentist I have ever experienced her staff is too busy watching soap operas on all the TVs in each room instead of cleaning and she gave me a filling which was too deep which could have been understandable as her son had his pictures delivered from Hawaii and she had to stop 3 times to pay for them and show her whole staff all of them must be nice to have a 14 year old go to Hawaii on her moms dime and have her patience wait to see all of this happen I had to have oral surgery and have the tooth removed because she put the filling in too deep an abscessed tooth was the result I wouldn't recommend her to an ex girlfriend or someone I hate because of the three months of extreme tooth pain I had to deal with because of her lack of care and follow through even after I called and asked them for advice and follow up they simply could care less and did not even offer to reschedule an appointment other than prescribing me vicodin and antibiotics do not recommend and do not go to her license should be pulled!!"
        ],
        [
         "45",
         "0",
         "In all fairness - I did not see this dentist but did schedule an appointment and waited 15 minutes for them to open.\\n\\nWhen I look at Yelp reviews, I usually weed out the outliers (the best and the worst).   Unfortunately, there are only two reviews.\\n\\nIt was my first time at the office.   The office admin (very nice) asked for me to come early (before 9am) to complete paperwork.   I arrived at 8:50.    I waited.   I watched 2 employees walk by me (unlocked the door and re-locked it).    They did not acknowledge me.\\n\\nThe door I was at had signage (open hours).    I decided to leave because of a review where the staff seemed distracted or disinterested in my presence.\\n\\nThe office admin (very nice) called me to inform I am missing my appointment.   I explained to her that there were too many indications where this was not going to be a good fit and wished her the best of luck.\\n\\nI recommend if you see this dentist you go to the front door (furthest away from the parking lot) for the entrance.\\n\\nPoor recommendation because the staff who walked by me seemed to be distracted which was pointed out in a previous review."
        ],
        [
         "46",
         "1",
         "This is by far the best dentist I have ever been to.  She is honest and never trys to sell you a bunch a stuff that you dont need. We are very great full that we discovered her. We adjust our vacations to make sure that we stop in to her office in Pennsylvania at least once a year for cleaning and check ups, worth the drive from Florida."
        ],
        [
         "47",
         "0",
         "I've been to this office a good amount of times.  Each time the receptionists give of a vibe of entitlement and it is very uncomfortable.  Dr. Weinberg herself is very nice, but I doubt her ability. Every procedure she has done to my teeth has backfired. The third and last issue I have is that i always paid cash at the end of my visits and somehow I have received an invoice for $55. I called and of course the receptionist was sassy and rude so I gave up. Will never go back or refer anyone else"
        ],
        [
         "48",
         "0",
         "Far away from real Chinese food. Doesn't even taste good as American style Chinese food."
        ],
        [
         "49",
         "0",
         "I used to order takeout here once every month or so. The food tastes average and the price is good. It's your typical low-end Chinese place. \\n\\nThe last (and final) time I ordered here I just so happened to be picking up my order while a health inspector from allegheny county health department was making his rounds. While I was waiting on my food (which took much longer than usual) the inspector was pointing out violations. He also requested a copy of a certificate that the man behind the register was unable to produce. The inspector looked at me like I was crazy for waiting on my food despite the obvious poor conditions.  \\n\\nAs for the rest of the place - it's always been kind of dirty inside. The carpets are just FILTHY and the walls match. There are always children's toys scattered about the floor because the owners children are always there, so be careful not to trip. \\n\\nThe workers do seem like nice people just trying to make a living but when it comes to cleanliness Don Don is lacking."
        ]
       ],
       "shape": {
        "columns": 2,
        "rows": 560000
       }
      },
      "text/html": [
       "<div>\n",
       "<style scoped>\n",
       "    .dataframe tbody tr th:only-of-type {\n",
       "        vertical-align: middle;\n",
       "    }\n",
       "\n",
       "    .dataframe tbody tr th {\n",
       "        vertical-align: top;\n",
       "    }\n",
       "\n",
       "    .dataframe thead th {\n",
       "        text-align: right;\n",
       "    }\n",
       "</style>\n",
       "<table border=\"1\" class=\"dataframe\">\n",
       "  <thead>\n",
       "    <tr style=\"text-align: right;\">\n",
       "      <th></th>\n",
       "      <th>sentiment</th>\n",
       "      <th>review</th>\n",
       "    </tr>\n",
       "  </thead>\n",
       "  <tbody>\n",
       "    <tr>\n",
       "      <th>0</th>\n",
       "      <td>0</td>\n",
       "      <td>Unfortunately, the frustration of being Dr. Go...</td>\n",
       "    </tr>\n",
       "    <tr>\n",
       "      <th>1</th>\n",
       "      <td>1</td>\n",
       "      <td>Been going to Dr. Goldberg for over 10 years. ...</td>\n",
       "    </tr>\n",
       "    <tr>\n",
       "      <th>2</th>\n",
       "      <td>0</td>\n",
       "      <td>I don't know what Dr. Goldberg was like before...</td>\n",
       "    </tr>\n",
       "    <tr>\n",
       "      <th>3</th>\n",
       "      <td>0</td>\n",
       "      <td>I'm writing this review to give you a heads up...</td>\n",
       "    </tr>\n",
       "    <tr>\n",
       "      <th>4</th>\n",
       "      <td>1</td>\n",
       "      <td>All the food is great here. But the best thing...</td>\n",
       "    </tr>\n",
       "    <tr>\n",
       "      <th>...</th>\n",
       "      <td>...</td>\n",
       "      <td>...</td>\n",
       "    </tr>\n",
       "    <tr>\n",
       "      <th>559995</th>\n",
       "      <td>1</td>\n",
       "      <td>Ryan was as good as everyone on yelp has claim...</td>\n",
       "    </tr>\n",
       "    <tr>\n",
       "      <th>559996</th>\n",
       "      <td>1</td>\n",
       "      <td>Professional \\nFriendly\\nOn time AND affordabl...</td>\n",
       "    </tr>\n",
       "    <tr>\n",
       "      <th>559997</th>\n",
       "      <td>0</td>\n",
       "      <td>Phone calls always go to voicemail and message...</td>\n",
       "    </tr>\n",
       "    <tr>\n",
       "      <th>559998</th>\n",
       "      <td>0</td>\n",
       "      <td>Looks like all of the good reviews have gone t...</td>\n",
       "    </tr>\n",
       "    <tr>\n",
       "      <th>559999</th>\n",
       "      <td>1</td>\n",
       "      <td>Ryan Rocks! I called him this morning for some...</td>\n",
       "    </tr>\n",
       "  </tbody>\n",
       "</table>\n",
       "<p>560000 rows × 2 columns</p>\n",
       "</div>"
      ],
      "text/plain": [
       "        sentiment                                             review\n",
       "0               0  Unfortunately, the frustration of being Dr. Go...\n",
       "1               1  Been going to Dr. Goldberg for over 10 years. ...\n",
       "2               0  I don't know what Dr. Goldberg was like before...\n",
       "3               0  I'm writing this review to give you a heads up...\n",
       "4               1  All the food is great here. But the best thing...\n",
       "...           ...                                                ...\n",
       "559995          1  Ryan was as good as everyone on yelp has claim...\n",
       "559996          1  Professional \\nFriendly\\nOn time AND affordabl...\n",
       "559997          0  Phone calls always go to voicemail and message...\n",
       "559998          0  Looks like all of the good reviews have gone t...\n",
       "559999          1  Ryan Rocks! I called him this morning for some...\n",
       "\n",
       "[560000 rows x 2 columns]"
      ]
     },
     "execution_count": 27,
     "metadata": {},
     "output_type": "execute_result"
    }
   ],
   "source": [
    "# change 1 to 0  and 2 to 1\n",
    "df['sentiment'] = df['sentiment'].replace({2: 1, 1: 0})\n",
    "df"
   ]
  },
  {
   "cell_type": "code",
   "execution_count": 28,
   "metadata": {},
   "outputs": [
    {
     "data": {
      "text/plain": [
       "0    280000\n",
       "1    280000\n",
       "Name: sentiment, dtype: int64"
      ]
     },
     "execution_count": 28,
     "metadata": {},
     "output_type": "execute_result"
    }
   ],
   "source": [
    "df['sentiment'].value_counts()"
   ]
  },
  {
   "cell_type": "code",
   "execution_count": 29,
   "metadata": {},
   "outputs": [
    {
     "data": {
      "text/plain": [
       "\"I don't know what Dr. Goldberg was like before  moving to Arizona, but let me tell you, STAY AWAY from this doctor and this office. I was going to Dr. Johnson before he left and Goldberg took over when Johnson left. He is not a caring doctor. He is only interested in the co-pay and having you come in for medication refills every month. He will not give refills and could less about patients's financial situations. Trying to get your 90 days mail away pharmacy prescriptions through this guy is a joke. And to make matters even worse, his office staff is incompetent. 90% of the time when you call the office, they'll put you through to a voice mail, that NO ONE ever answers or returns your call. Both my adult children and husband have decided to leave this practice after experiencing such frustration. The entire office has an attitude like they are doing you a favor. Give me a break! Stay away from this doc and the practice. You deserve better and they will not be there when you really need them. I have never felt compelled to write a bad review about anyone until I met this pathetic excuse for a doctor who is all about the money.\""
      ]
     },
     "execution_count": 29,
     "metadata": {},
     "output_type": "execute_result"
    }
   ],
   "source": [
    "df['review'][2]"
   ]
  },
  {
   "cell_type": "code",
   "execution_count": 30,
   "metadata": {},
   "outputs": [
    {
     "data": {
      "application/vnd.microsoft.datawrangler.viewer.v0+json": {
       "columns": [
        {
         "name": "index",
         "rawType": "int64",
         "type": "integer"
        },
        {
         "name": "sentiment",
         "rawType": "int64",
         "type": "integer"
        },
        {
         "name": "review",
         "rawType": "object",
         "type": "string"
        }
       ],
       "conversionMethod": "pd.DataFrame",
       "ref": "7b116330-69ca-46a2-9dd6-e7dada960771",
       "rows": [
        [
         "0",
         "1",
         "This place is one of my favorite comic shops. I actually live closer to a different one, but I drive to chandler just to go to this one. I like their selection and when they have the dollar sale you can get some ridiculous deals. The staff is ridiculously friendly and I usually always walk out with whatever I wanted. They also have some cool events from time to time and i've found their prices to be reasonable and comparable to other comic shops."
        ],
        [
         "1",
         "0",
         "The wait time for an appointment is ridiculous. Been waiting over an hour and a half for my scheduled appointment time. These people do not value patients time"
        ],
        [
         "2",
         "0",
         "I did not like this hotel at all. It's very old and not comforts in it. \\nThe good thing is that it was cheap but at the time was like a room just to sleep! \\nThere is no view at all and while you are in the Vegas it should not be those kind of rooms. \\nWhen we came in to the room we just sow a trash cans and an a conditioner staff...!!!\\nBut the Casino and staff were good and cute  ...it's was almost like we were in the animation movies...but inside the casino..."
        ],
        [
         "3",
         "1",
         "Mill Avenue has a serious issue with parking. While I am a fan of the various restaurants on this street, the parking situation is infuriating. I had to park in a residential area and risk getting my car towed, because I was in a rush and simply needed to get my food quickly and go.\\n\\nThe restaurant itself is just fine. There was good music, lots of friendly people, and the food was delicious. The line was long but it moved fairly quickly. I would definitely visit this restaurant again but the parking situation seriously needs to be addressed."
        ],
        [
         "4",
         "1",
         "Favorite sushi place in NV!  Price is reasonable and food is incredible!  I will eat there every time I go to Las Vegas."
        ],
        [
         "5",
         "1",
         "Absolutely A-1 coffee shop! Very comfortable, inviting place with a very homey feel to it; to the right of the counter there's some pretty cool art displayed on the wall, as well as bookshelves packed with many books to choose from if you want some good reading to go along with your coffee. The staff is fast, attentive, & as friendly as can be, & as far as the coffee? Not too sweet, not too rich, but a perfect balance of the two! Great selection, great prices, great staff, & just an overall awesome coffee shop! The flavor of the coffee alone is enough to keep you coming back for more, & the welcoming feel of the shop overall is just an added bonus! The only regret I have is that there isn't one a little closer to where we live, but it's honestly worth the minimal travel time. If you haven't tried Grouchy John's it's definitely worth your while to check it out & pay this coffee shop a visit!"
        ],
        [
         "6",
         "0",
         "Have to agree; probably the worst place for \\\"seafood\\\" around. And the corporate atmosphere reminds me of outback or chilis.... enough said."
        ],
        [
         "7",
         "0",
         "OUR ROOM WAS LEAKING WATER! We woke up @ 3am to the sound of water dripping on the floor. We called the front desk (took 5 minutes for someone to pick up) and the lady told us she will move us to another room. So we have to pack up all our stuff to move to another room. So where do we move at 3am in the morning, all the way to the end of the Tower.\\n\\nIt took us 5-6 minutes of walking just to reach it! And apparently the pyramid leaks water according to the bell boy that helped us move. They put us in a nice room (mold was on the ceiling, we were too tired to care), better then the one before but it was already 4 in the morning by the time we reached it and unpacked, and we were going to check out at 10 am.\\n\\nSo during check out, we ask the front desk if there is anything they can do for us, and this rude manager comes over who seems already mad at us for even asking such a thing. She yells \\\"we put you in a better room then the one you had before so in our view you have already been comp\\\". But we were only in there for 4 hours and that was to sleep, we would have been fine with the same room we had before. We didn't ask for a better room, just one that wasn't leaking water! She didn't want to hear it and said she can't do anything for us except comp us a free buffet, ROFL wow thats it?\\n\\nWe sold out and took it, we were hungry and tired. So we get to the register of the buffet and they couldn't find our comp! I was like WTF, COME ON! The lady behind the register took our names and room number down and we finally got in for free (or so I thought). So a half  week later, back at my house I noticed on my back account a $40 change from Luxor, I WAS LIKE WTF!?!? I called and they charged me for my buffet! \\n\\nI WILL NEVER STAY IN THE LUXOR AGAIN! DO NOT BOOK A ROOM WITH THE LUXOR YOU WILL REGRET IT!"
        ],
        [
         "8",
         "0",
         "Very expensive!!!\\nSound and environment was OK.\\n$22 for two tickets is just not worth it, I would rather watch a movie at home where it is also more comfortable.\\nWe went on a Saturday night and most of the theater was empty, only 2 other people were in the theater/movie we watched, the parking lot was also less than half full while in the past it used to be full and hard to find a parking spot let alone by the door.\\nThey need to drop the price by at least 50% before I would go back..."
        ],
        [
         "9",
         "1",
         "forget sexual healing mr. marvin gaye, i need some earl healing! #allhetero\\n\\nafter LOOOONG NIGHTS (PLURAL) of binge drinking on the verge of alcohol poisoning (coincidentally, after our long night at BOTH surrender and XS, one of our friends actually woke up in the hospital.. ID, credit card, and cash... LESS #nojoke)\\n\\nall you need is EARLS.\\nthankfully, they maximize efficiency by having the line form against the wall. you order at one spot slide through to the next where you can watch them make those fresh sandwiches and pay at the next register. they hand you a buzzer and you wait, once it goes off it feels like christmas again and you receive two of the best warm sandwiches in the world.\\n\\n1. THE AMERICAN\\n\\n2. THE FULL MONTAGUE\\n\\nall i've ever ordered, all i'll ever order.\\n\\nsanitize hands with the complimentary, wall-mounted dispenser, consume, wash hands, drink.. *REPEAT!\\n\\nsimilar to recharging the batteries, you are now.. GOOD TO GO! hollaa earl"
        ],
        [
         "10",
         "1",
         "If only you could give out 10 starts, i think i would still have to give this place 11!! :)\\n\\nI never knew shshi could be this good!!!! Located on Eastern and Coranado, next to Trader Joe's, this is the place to go for sushi and also a good time! The owner Eddie pratically lives there... I think he has a matterss in the back somewhere. He is ALWAYS there which is awesome cause that means you can go anyday you want at any time and you will have the best sushi chef there to create the most amazing fish you have ever had.\\n\\nThe rolls are inventive and delicious. Eddie needs to sign up for a \\\"how fast can you make sushi contest\\\" cause im telling you he would totally WIN!! Almost before you can tell him what it is you want he is handing it to you! \\n\\nI feel that part of the sushi experience is sitting at the bar and talking with the sushi chef. I have to believe that Eddie agrees with that cause he is very charming and engaging... he makes you laugh and smile, and well... just feel welcomed!!!\\n\\nThis place is fairly new but has a major following already. Once you go there you are hooked! The 1st time we went there it was so delicious that i wanted to go back the next day! (That never happens) Im telling you i dreamed about this place (the Danny handroll & Princess Deana roll to be exact) and when i called my brother to tell him how much i loved it (he told me about it) and that i wanted to go back the next day he said \\\"yeah, i understand, we went 3 days in a row when we found it\\\" which then kinda gave me the ok to go again the next day and not feel bad!! :) thanks bro! \\n\\nIf you dont want to go to the strip and you want some AMAZING susi-this is the place to go! Just make sure you dont already have dinner plans for the night after, cause i guarentee you that you will want to go back again!! \\n\\nThank you Eddie, for bring to Henderson the best sushi EVER!! You are the MAN!!!! \\n\\noh, and after writting this and thinking about it, im sure ill see you in a few hours.. lol \\n\\n(pictures posted)"
        ],
        [
         "11",
         "0",
         "Craving a good burger and based on a co-workers advise decided to try out Blue 32 Sports Grill.\\nWaitress was friendly and attentive. Since this was our first time here she explained how everything was fresh made on site. \\n\\nI always want an explanation of \\\"seasonings\\\" as some are \\\"spicy\\\" seasonings and I don't do spicy.\\n\\nThe onion rings were seasoned with both black pepper and cayenne pepper. The onion rings were evenly sliced and had a nice \\\"crunch\\\" to them. After the 3rd onion ring they started really getting to \\\"hot\\\" for me. I would suggest using the cayenne pepper as an add-in for those who like spicy foods. \\n\\nI also ordered the Blue 32 Steak Sandwich. I expected to get thinly sliced  Steak instead I got something that resembled hamburger cubed steak. \\nThe mushrooms were not sliced but rather \\\"cubed\\\" . The onions were also chopped up. It would have been nice to have the mushrooms and onions sliced up and caramelized together on the grill then tossed in with grilled STEAK and cheese mixed in (instead the cheese was \\\"blobbed\\\" on\\\"\\n\\nI am a mom that loves to cook and has a family that loves to eat my cooking. When I go out to eat (doesn't matter where) I want to have something that I either don't cook at home or just blows me away and makes me want to try cooking it home with equal or better restaurant results.\\n\\nI will give Blue 32 another try and see if my taste buds are telling me what others are saying."
        ],
        [
         "12",
         "0",
         "I alwYs go to Umc but this time it was after 730 so they were closed... First thing is I called them to make sure they were contracted with my insurance they said yes.... (They weren't) I thought my kids were going to be seen by an MD... They weren't it was an APN which is fine but diagnosed my daughter with noro virus just bcuz it was going around at the time anyways long story short they aren't contracted with health plan of Nevada I called their billing department and they told me they didn't know who they were contracted with but billed all insurance wth??? AnywAys now I'm stuck with a $300 bill from them for seeing an APN that did not give us any prescription next time I'm sticking to Umc they are awesome... Extra urgent care sucks that's why they r always empty"
        ],
        [
         "13",
         "1",
         "Jennifer, of Jehnuine Designs, does great work and is very professional. About a year ago she created a logo for my business. She created exactly what I envisioned and turned around the project quickly. I would go back to Jehnuine Designs for other design projects and recommend her to friends, as well."
        ],
        [
         "14",
         "1",
         "I love all my carbs toasted. I would rather be late for work and take the time to toast my bagel than eat it untoasted. This place drew me in because all their subs are TOASTED. Toasted to perfection, served warm, with just a little bit of golden brown starting to appear on the bread. Mmmm....heaven. \\n\\nThis place has a fun vibe. Reggae music playing, really chill workers, plenty of seating inside. Their sandwiches come in 3 sizes 4 inches up to 12 inches. Nicely priced and a pretty extensive menu. \\n\\nI got the Kali Mist which was delicious. Had a bit of kick to it, nicely sauced. I hate dry sandwiches. Can't wait to come back and try all their subs. They have a fun selection of desserts  rice krispies but also captain crunch krispy bars, cinnamon toast crunch bars, and fruity pebble bars. \\n\\nSorry Jimmy John's, Which Wich, Firehouse Subs, Quizno's... every other sub place on state street I'm starting a love affair with Cheeba Hut."
        ],
        [
         "15",
         "1",
         "Was here about 5:30 pm to 8:30 pm on Mon/16 Dec with a few buddies for their Monday Night Football specials:\\n- $1 drafts and they have a big draft beer selection (Blue Moon, etc)\\n- 1/2 off their sushi rolls/etc, foods pretty good\\n- Friendly staff/bartender\\n- Nice decor with a fish tank in the center of the bar\\nI'll be back for sure."
        ],
        [
         "16",
         "1",
         "I dig the melting pot, i mean, its fun. Fondue=fun. This was another  \\\"Yay my birthday is during restaurant week!\\\" dinner for me. The cheeses, meat course and salad are good but lets be honest that dessert is where its at. Id get all 3 courses as dessert if i could.   A big pot of chocolate and then cheesecake, rise crispies, bananas, strawberries, red velvet cake and marshmallows all to dip into it. Heavenly is an understatement. \\nI also dig that your in control of your own cooking times. So what if i cook my steak for 10 seconds...rare is good yo...\\nGoing with a large group is smart. Then you can really sample a lot of the stuff on the menu. Our party had 8 peeps in it so we got 3 different cheeses, cooking styles and  chocolates. Service was aiiiiiight considering it was a large party, but it coulda been better. I normally wouldn't be able to afford more than one course here but at $30 for everything during restaurant week it's a hella great deal."
        ],
        [
         "17",
         "0",
         "Too much bad attitude, unprofessional, and mediocre results. Not to mention that most of the \\\"nail technicians\\\" there cannot properly re-create the nail art that they up-sell. I had to remove \\\"art\\\" and repaint my toenails. \\n\\nIt's ALMOST worth the $20. If it cost any more, I would never go there again."
        ],
        [
         "18",
         "0",
         "So this weekend my 2 cousins and I decided we wanted to get our hair and makeup done at Platinum Entourage. We made reservations for 6pm for three people, assuming that we were going to get our hair done @ 6pm and then proceed to makeup done. Well we come to find that there is only one makeup artist and we all get our hair and makeup done at different times.  Most companies I have gone to in Hollywood they normally will have enough staff members to fulfill the clients' need, and not try to \\\"flip-flop\\\" (that's what prick called it) everyone around because they only have one makeup artist. According to the prick, they just \\\"flip-flop\\\" everyone around regardless of the time you made your appointment, so if you made it at 6pm chances are you won't be seen till 6:45pm.  So not only was that the stupidest business model for a company to have if they specialize in doing hair and makeup but the customer service was garbage. They were sooooooo rude about the entire situation. The receptionist didn't want to take any responsibility for the mix up, and the other guy was a complete prick in the manner that he spoke to us. To make matters worse they screwed up on the type of appointments, and then accused us of calling and canceling one of the makeup appointments!!!! I agree mistakes happen ALL the time, at first I wasn't upset until the prick came over to speak to us.  The manner that they dealt with the entire situation was disgusting, unprofessional and ignorant. NOW I can't say anything about the makeup artist because well we didn't get anything done due to all the screw ups, however, my cousin got her hair done and well it was nothing impressive."
        ],
        [
         "19",
         "0",
         "I went here alone when I first moved to Pittsburgh. Maybe it would've been a better experience had I not been alone, but I go out alone a lot, and I've never felt as awkward as I did when I walked into Gooski's. Everyone turned to look at me as I came in the door, and their eyes followed me until I took a seat in a booth by myself (do I have something on my face?). I grabbed a beer, sat and drank it and decided to leave rather than stay. It didn't feel very friendly to me.. but maybe I'll give it a second chance, based on some of these other reviews."
        ],
        [
         "20",
         "1",
         "After a bad experience at our Favorite Restaurant Roca Akor in Scottsdale, we turned to Yelp and Roka's very capable manager Charles responded within an hour, invited us back and more than made it right.  We knew they had great food and now, thanks to Charles, we know they have great management.  We highly recommend it."
        ],
        [
         "21",
         "1",
         "I came here on a Saturday night in the summer around 930. They quoted us a wait time of 70 minutes. We had our hearts set on this place, so we said we'd wait. But the best part was that they take your phone number and text you when your table is ready. This was awesome! We got to hang out in the casino and get drinks until our table was ready. Once we were seated we were shown the drink menu. The drinks all looked amazing. Unfortunately, I was the DD for the night. We ordered parmesan (sp?) truffle fries and they were AMAZING! No joke, the best fries I've ever had in my life. The burgers were absolutely delicious. They were cooked to perfection. I hardly ever order a burger medium, and get a burger medium. It's always too well done. But this was perfect. Two friends I was there with ordered their's medium rare and you could see that theirs were absolutely medium rare and noticeably different from my medium. My husband and I keep a list of our top 5 burger places (similar to 'the list' from Friends), and this place shot to the top. We also ordered the Oreo shake and the sticky toffee pudding for dessert. Sticky toffee pudding is one of my all time favorites, but it was not at all good here. The shake was good, but I wish they had a malt option. Still, the sub-par desserts weren't enough to detract from the 5 star rating. Also, the servers' outfits are absolutely hideous, truly the most unflattering ensemble I could imagine for a server, but that's my only real criticism, which is hardly relevant at all."
        ],
        [
         "22",
         "1",
         "I have to say that this all-you-can-eat sushi buffet wasn't too bad. The service and ambiance was definitely better than Sushimon, but when it comes down to quality, taste, and presentation....Sushimon wins the competition!\\n\\nIf you don't mind driving a bit off the strip, then come to this sushi place. It was only $22 for lunch when my friends and I went here on a Saturday.\\n\\nSorry, peeps...Sushimon is still better for me..."
        ],
        [
         "23",
         "1",
         "Had breakfast here today and it was excellent! The server was fast,  & friendly. Food was hot, fresh and tasty. Will come back again and try the other menu items."
        ],
        [
         "24",
         "1",
         "Football is king at Towne Tavern, and the brother princes of hockey, basketball and baseball vie for the crown throughout the year. Their court is comprised of raucous crews of kids eating for free on Tuesday nights and rogue interlopers consuming regular drink specials. Their lovely pedestal-seated princess is the most glorious ranch dressing in all of the land, who is often attacked by guerilla French fries who want her all to themselves.\\n\\nDecorated in traditional sports bar regalia, but focusing on the far away upstate New York and neighboring New England teams, Towne Tavern has a visible love for the refugees of cruelly cold winters. They come to Towne Tavern to eat, drink and reminisce about their homeland, and cheer for the Carolina teams on the side.\\n\\nTowne Tavern's menu is highlighted by their burgers and sandwiches, and their surprising level of quality salads, which are high in dark green lettuce content rather than iceberg, as many restaurants of that plane push.\\n\\nService is inconsistent at TT at times; however, not such that it stops us from eating there.  Takeout orders sometimes take longer than they should to appear; so much so that it has occurred to me to wonder if it is done purposely so that those waiting at the bar for meals to go will order another beer.\\n\\nOverall, it is a solid place to eat, and is a staple restaurant in Fort Mill for upstate New York transplants and natives alike."
        ],
        [
         "25",
         "0",
         "This is the the most dishonest car shop I have ever been to, utterly disgusted at the conduct and lack of ethics of the employees who work here.\\n\\nA few weeks ago I noticed that two of the tail lights on my Acura were out. I took it in Midas as they were the closest shop and knew they were open on Sundays. The window signage stated clearly: free estimates. After waiting for nearly an hour, the technician informed me that since it was an electrical problem, they would have to charge me a diagnostic fee of $75 despite the window stating the contrary.\\n\\nAfter complaining about why did they didn't tell me this an hour ago, they went ahead and honored their policy. They told me that for whatever reason, the 'light switch' went out and had to be replaced at a cost of around $200. I was about to agree to the repairs, until a woman walked in the lobby complaining about her car overheating again despite having it brought in to this shop 3 times and paying each time.\\n\\nThis was enough to turn me off to the repairs and I ultimately drove home, tail lights still malfunctioning. After speaking to my friends, they recommended I check out Hondatronics (see my review for them). I took my car down there the next day and informed the lady working there of the problem, I even mentioned that Midas had told me that the light switch had to be replaced. About an hour later, I got a call back from Hondatronic stating that they had fixed the problem: 2 bulbs which had blown. Total cost: $15. \\n\\nTHANK GOD I DID NOT LET MIDAS DO ANY REPAIRS ON MY CAR. I don't know how they were talking about replacing some part for $200 when all they had to do was replace 2 bulbs. I can't believe this place is still in business. Judging by the other reviews here, its clear that ripping people off is the way this shady shop makes their money. Save your money, time, and go somewhere else."
        ],
        [
         "26",
         "0",
         "We purchased a living social deal for $139 which was said to include a one nights stay in a king size suite, a $28 breakfast, and a $50 spa credit. However, the breakfast cost more than $28 and was basically disgusting. The toast had the burnt parts scraped off. No joke! For $36 we got burnt toast and greasy eggs. The waiters had NO IDEA what they were doing or what they had. Every question I asked was met with an, \\\"I'm not sure,\\\" or the wrong answer. \\n\\nThe dinner, which cost us over $100, was mediocre at best. The highlight of our $30 steaks was the mashed potatoes, which didn't even come with it, we had to pay for it as a side. The waiter didn't know how much wine came in a wine glass. He guessed it was a 4oz pour. I'm having a $100 dinner, and your waiter doesn't know how big of a pour you have for your wine? Isn't that like training 101? And to top it all off, I left my sunglasses at the table (we were the ONLY table there with the exception of the family sitting 4 tables away) and of course they \\\"hadn't seen them,\\\" when we came back.\\n\\nSo come to find out, the spa credit for $50 covers half of a pathetic massage. My fiance gives me better massages and they are free.\\n\\nI liked that the room was clean, and the water park was fun. However they charged my account for everything, and my fiances account for everything. They also double charged my account for the spa visit. So all in all, our $139 turned into over $900. So be weary when going to this resort."
        ],
        [
         "27",
         "1",
         "Lulu is probably our favorite restaurant in Charlotte.  The ambiance is truly perfect - white tablecloths and very attentive servers perfect for a romantic evening but still casual enough for a family or group of friends.  Brunch is not too be missed. Mussels and frites are awesome. We once had an overcooked steak but it was recooked without question. Everything else we've ever had at Lulu has been outstanding. And the owner and staff go above and beyond to make sure that all of their customers are enjoying themselves. I love it at Lulu."
        ],
        [
         "28",
         "1",
         "Probably the best show we've seen so far! It's really worth it, nice theater built especially for this and the show is amazing! Try to not seat in the first 3 rows, you'll get wet. You can get drinks and popcorn, but they are pretty expensive."
        ],
        [
         "29",
         "0",
         "I stayed at the Wynn for four nights last week.  It was my first and last time staying at this hotel.  First off, it is a very beautiful and classy place with an awesome buffet.  However I think all this disguises the underlying problems this hotel has: convenience and a quiet night's stay.\\n\\nI go to Vegas often and have stayed at many different hotels on the strip including Encore.  Checking-in never took longer than 5 minutes at the other hotels except at the Wynn which took 40 minutes.  Yeah, ok it was busy but Vegas always is when there's a convention in town which is basically every day.\\n\\nThe first night what I thought was the TI pirate show turned out to be the window panes hitting each other because of the wind.  Keep in mind it was not that windy.  It was more so just breezy.  I was wondering why I was hearing such loud noise every couple minutes.  You would think for such a ritsy, expensive hotel this wouldn't happen, but it's definitely the case at the Wynn and from what I remember the Encore as well.  Not a big deal if you are out all night partying.  But when you gotta get up early the next morning because you are on a business trip it's not a good thing.\\n\\nWhen it came time for me to leave and check-out they don't even have the convenience of checking out on the TV.  Anyways, I needed a statement copy so I went to registration to check-out.  Another 20 minutes wasted.  While I was waiting in line I overheard one of the workers tell a guest who was checking out that he was 13 minutes past check-out time.  Common now!  How dare he even say that to a guest and on top of that it was because the F@#$king line moved so damn slow!\\n\\nWhen it was finally my turn to check-out they messed up on my bill.  Turns out they never took down my credit card information, which I provided them when I checked in and charged everything to the saved company corporate card on file.  I told them all charges needed to be on my own credit card due to my company's policy.  She didn't understand or know what to do so she had to grab a coworker to help her out who also didn't understand the situation.  This is understandable because how can a confused person properly tell another what the situation was without confusing her?\\n\\nAfter some time they finally fixed the problem and I was out of there.  Never to return again.  I don't know if the convenience of quick checking-in and out is due to there computer system or just incompetence.  I don't care for finding out.  All I know is I completely discourage people from staying at this hotel."
        ],
        [
         "30",
         "0",
         "We went here on Wed for my grandson's birthday.  We got there about 8 pm and it was sort of busy, and mariaches were singing. The waitress didn't speak English and we had questions about some menu items which were in Spanish. It took us awhile to order due to the language barrier [two dishes were described exactly the same in different sections w/different prices, and other issues] and her serving other tables. By that time, the place had totally cleared out, including the music. My son and his wife got their shrimp burro meals fairly fast, then quite awhile later when they were finished, my grandson got his bacon-wrapped shrimp [he wasn't hungry any more from eating chips, etc], and then 15-20 minutes later, I got my \\\"seafood stuffed fish\\\" [ I guess seafood means only \\\"shrimp\\\" and veggies on top]. It took over an hour for my fiancee to get his Zarande Ado Relleno [grilled whole fish w/veggies on top] and I had to request his side of tortillas that were to come with it. He had been sharing my food and eating lots of chips, salsa and ceviche because he was starving, so wasn't hungry any more. He took a couple of bites of his meal and packed it to go [as did my Grandson]--we had to leave because he gets up very early for work, and it was after 9:30. On a positive note, the salsa was one of the best I've ever had [would like to get the recipe], and that along with the chips and ceviche [nice perk], and Margaritas(!) saved us while waiting for our food. However, although servings were generous the seafood did not have much flavor, was overcooked and a disappointment after reading some of the glowing reviews. It was not the waitress's fault the food took so long and she comped us on a round of drinks while we waited for the last two plates. Otherwise, she was fairly attentive, but it was very frustrating trying to communicate with her, only speaking muy poquito Espanol and using hand gestures. She did apologize, and I was sorry it was a negative experience because we were there to \\\"celebrate\\\" a birthday."
        ],
        [
         "31",
         "0",
         "Dear Papago,\\n\\nI love you.  And I love your orange blossom beer.  The pizza is pretty fabulous too.  And I live really far away so coming here is a special treat.  But you blew it last night.\\n\\nThe server warned us in advance that they were understaffed and thing might be a little slow. No problem.  We ordered beer and beer bites.  I actually wanted pizza but thought it would take too long.  The beer arrived pronto.  One hour later, no beer bites and we had to leave.  The table next to us were noshing happily on their appetizer AND pizza.  I considered starting a bar fight just to steal a slice.  The waiter was super nice but I did not for one second buy his line about the beer bites taking forever.  You can cook an entire pizza more quickly than little bites of dough?  Do I look stupid?  If you lost my order, say so rather than insulting my basic knowledge of chemistry.\\n\\nI will probably be back but I think we need some time apart. \\n\\nLove,\\nHungry Girl"
        ],
        [
         "32",
         "1",
         "Dr. Amy is the BEST! She made me feel like family and took care of me and my dental situation. I did not go out of there in tears like my last dentist. Her front office staff Karla was understanding and very helpful.\\nThank you Dr. Amy and your staff for making me feel so comfortable and welcome."
        ],
        [
         "33",
         "1",
         "I've been here a few times and let me tell you it's been a great experience in every visit, one of my two favorite appetizers is the nachos with carne Asada and the chorizo with queso, I could just keep coming back for these two,along with a beer at their newly added bar which by the way the variety it's pretty awesome, they have all kinds of tequilas you just wanna try them all haha! I'm sure they won't have a problem with that!,they also have a patio with a mister system which I haven't personally been into just yet because I've been there during the winter but that's the one feature I'm looking forward to go to during the summer; over all I thing it's a great place  to go and enjoy a nice meal with familly or friends, I will definitely come back!!"
        ],
        [
         "34",
         "1",
         "We've started making Eddie's House a regular friday routine. Tonight he had Lebanese specials made by his mama. The stuffed squash and green beans in tomato sauce were awesome. My kids swear by the mac and cheese and they love the spices on the flatbread."
        ],
        [
         "35",
         "0",
         "Gigi's has focused it's efforts on only the superficial.  Their marketing materials (signage, brochures, packaging, etc.) are slick and glossy.  That's appropriate for this type of business, but what about focusing on the core if what it's supposed to do --- making great cupcakes?  And having a wide selection from which to choose?\\n\\nOn the Sunday afternoon I stopped in, there where six cupcakes.  Not six varieties, but six ACTUAL cupcakes!  I can understand the need to avoid waste and shrinkage, but six???  They're made of flour and water!!!  How much can it cost to keep a variety on hand?\\n\\nIn terms of the product, the cake was just average and the frosting was too thick and sweet.  The good news?  It was pretty to look at and well-packaged."
        ],
        [
         "36",
         "0",
         "This is my home course. I play here about 75 times a year. Recently they had a management change. For some reason  they forgot about the golfers who supported them when times were tough. The changes that they are making are great for the course. Just remember the local guys are the one replacing divots, spending money in the restaurant and making a effort to support you guys even when you burn the greens or the fairways on 13. If you keep up your changes, the locals we will find another place to play. Now with that being said the course is playing well. There has been some new ways of keeping the course in good condition. They are mowing early and raking the bunkers. This has helped them  become more consistent. The layout is fair for every golfer. There's not much trouble and even errant shots are forgiven by desert surrounds and lack of trees. Take your wedges because it is generally driver,short iron wedge type course. The front has a little water but bring your gas mask. All in all I would rate Rhodes a 5 out if 10. Worth at the most for 18 holes $30 to $45 a round. A great practice course at best. Lessons are great and are complementary for players club on Saturday with Alex (no longer with this course on the time it took to post this review)He is great with kids. Steer clear of Don or anyone who came from Tuscany. They are full of themselves. I am a resident of Rhodes Ranch and I am very disappointed with the last 4-6 months. Arnold Palmer would not be proud."
        ],
        [
         "37",
         "0",
         "I am genuinely the most easiest person to please. I always drove past this location and asked myself, \\\"Why have I NOT tried this place yet?\\\" \\n \\nWe stood in line waiting to order and there was this elderly women in front of us who obviously was trying her best to take an order being it was her first time too, the cashier lady immediately got frustrated and scold the lady to pick up the tone of her voice because she couldn't hear her order.  \\nIf that wasn't rude enough a drive thru asked for her assistants and she snapped at them telling them that she's occupied, \\\"Hold Up!\\\"\\n\\nThen it was my turn to order. I gave her the benefit of the doubt and did my best to order... I decided on a medium burger, and she rudely told me... \\\"you mean the beef medium burger?\\\" Long story short because I don't want to write an essay...\\n\\nIf she didn't love her job find a new one... or if she was having a bad day? Take a moment to go and breath. There should be no reason for her to mistreat her guest. Especially when you never know who that guest could be. \\n\\nFood came out, we noticed she missed a lot of things we requested.... disappointed because the food was actually tastey."
        ],
        [
         "38",
         "1",
         "They have great pizza and now have a new menu.  I tried the Lasagna and being Italian I never ate one better than mine until I had their's.  I had to tell the chef.  They also have a stracciatella soup which is an egg drop soup (not on the menu) and it is delicious.  The other friends I was with loved the meals they ordered"
        ],
        [
         "39",
         "1",
         "The hotel is small but yet very new and comfortable. I loved how clean it was and their customer service is amazingly good. They have a free shuttle to and from the strip and the airport too. I would definitely stay here again. I only paid $210.00 from September 3rd to the 6th. Cristian, one of their staff members, was amazing. He was always on top of everything and always willing to help. I loved the fact that although their staff was young, they were always happy, smiling and willing to help. Excellent work guys."
        ],
        [
         "40",
         "0",
         "How stupid are the supervisors of this airport? They have small shuttles to get you between terminals. The shuttles are very small buses that can not accommodate luggage. People who have to transfer from international to domestic usually have to grab their luggage and take it themselves. So no room in the shuttles. It is too far to walk. Stupid ignorant cheap supervisors. I can only assume that all the big buses were taken. Do us a favor and do something about that."
        ],
        [
         "41",
         "1",
         "If you want a fast but good burger that doesn't break the bank, leaving u money for other fun things! Really nice employees too!"
        ],
        [
         "42",
         "0",
         "Read the reviews and couldn't wait to try this place.. that was my first mistake, I should have waited a long LONG time ;)\\n\\nFirstly, the restaurant is located in a small strip mall with some funky parking.  Went in, was impressed with the cleanliness and it certainly smelled wonderful.  Hubby was hungry, so he ordered the chips and dip, 2 garlic rolls, and a large pizza.. I quickly changed it to a small pizza, and I'm doubly glad that I did.\\n\\nChips and dip arrived - hubby thought they were both fantastic.  I thought they were good, but hardly \\\"life altering\\\".  The chips are homemade, no salt on them, and fried until hard.  They're too thick to be called crispy.  The dip was called Ranch and it was all you tasted.. Ranch dressing.  If there were other seasonings in there, they were lost.\\n\\nThen the pizza arrived, and we reminded the guy about our garlic rolls.  He quickly returned with 2 foil wrapped rolls.  Hubby opened his and tasted it immediately.. then set it down and never picked it up again.  He said it was cold and boring, so I didn't open mine at all - not going to waste time on something that bad.\\n\\nThe pizza toppings were fresh and the crust was crispy.  Not thin, not thick, but sturdy.  However, the sauce had virtually no seasonings to it - a frozen pizza generally has more flavor than this did.  There was a shaker of oregano and another of garlic located with the shakers of pepper flakes and dried parmesan cheese.. once those were added, then it was okay.  I have serious issues with a pizza that has to be seasoned afterwards.. isn't that the cook's job?\\n\\nI had one slice, hubby had two.. and we tossed half the small pizza as not worth saving.\\n\\nOn a plus note, the fountain coke tasted great ;)"
        ],
        [
         "43",
         "0",
         "I've had a lot of things both dry cleaned and altered at this place (several hundred dollars worth). He is consistently late and there were a  couple of instances where I had to take stuff back to be re-done. I've only gone because it is convenient to my location and reasonably priced. I will never go back though. The straw that broke the camels back for me was the most recent time when I had him alter two suits. We agreed on two weeks to complete the work. I came back in three and he hadn't even started. He told me the earliest he could do it was another week and then was late again. Seriously? How hard is this? I am now going to start a search for a more reliable place."
        ],
        [
         "44",
         "1",
         "This was the best buffet we ate at on our trip to vegas. the dessert bar was awesome here."
        ],
        [
         "45",
         "1",
         "WHOO HOO! Came to visit from out of town and was looking for something to do. Consulted \\\"the yelp\\\" and found out about this place. Checked the website and found out there were Church Bus races that night. SOLD!\\n\\nThis was my first time doing anything like this and it was fantastic! We paid $7 each for entry, plus we did it up and got ourselves some Bud tallboys to complete the experience. The engines were loud, the crowd was rowdy, and the bathrooms were clean. What else could you want out of your night?"
        ],
        [
         "46",
         "0",
         "I guess this would be an okay place to eat if you're leaving the Social Security office down the block and are literally about to die of old age and want to have one last gyros sandwich before you go. But otherwise, meh.\\n\\nWe had lunch here and it was unremarkable. A Greek salad and gyros sandwich were both without any standout features. French fries were obviously from a bag, frozen. Not worth the calories. The sandwich had too much lettuce and not enough onion on the gyros sandwich, so it was bland, and tomato diced, and on top, which made the sandwich unnecessarily messy.\\n\\nThe service was friendly and the dining room was bright, spacious and sunny - and the presence of a coffee bar is definitely a plus - but I won't be back."
        ],
        [
         "47",
         "1",
         "After reading my review the owner Dave contacted me. He was very professional and apologetic about what had happened and refunded my deposit. He didn't try to convince me that I was wrong but simply admitted that what had happened was unacceptable. It's not often that you get this kind of follow up service from any business so big props to Dave."
        ],
        [
         "48",
         "1",
         "Love that it's open 24 hours perfect for when we're craving donuts which Is often. I feel that if I wasn't allergic to milk we'd be coming here more often"
        ],
        [
         "49",
         "1",
         "The food is great poblano chicken sandwhich great taste. Beer is cold!!! So here is my best advice try the place BEER IS COLD, Great atmosphere, girls are beautiful. But, it's the food you come for!! Remember this if the food isn't right service is sub par ask for a manager. Justin thanks for asking me to stay for the food!! Jamie you were great!!!!!"
        ]
       ],
       "shape": {
        "columns": 2,
        "rows": 56000
       }
      },
      "text/html": [
       "<div>\n",
       "<style scoped>\n",
       "    .dataframe tbody tr th:only-of-type {\n",
       "        vertical-align: middle;\n",
       "    }\n",
       "\n",
       "    .dataframe tbody tr th {\n",
       "        vertical-align: top;\n",
       "    }\n",
       "\n",
       "    .dataframe thead th {\n",
       "        text-align: right;\n",
       "    }\n",
       "</style>\n",
       "<table border=\"1\" class=\"dataframe\">\n",
       "  <thead>\n",
       "    <tr style=\"text-align: right;\">\n",
       "      <th></th>\n",
       "      <th>sentiment</th>\n",
       "      <th>review</th>\n",
       "    </tr>\n",
       "  </thead>\n",
       "  <tbody>\n",
       "    <tr>\n",
       "      <th>0</th>\n",
       "      <td>1</td>\n",
       "      <td>This place is one of my favorite comic shops. ...</td>\n",
       "    </tr>\n",
       "    <tr>\n",
       "      <th>1</th>\n",
       "      <td>0</td>\n",
       "      <td>The wait time for an appointment is ridiculous...</td>\n",
       "    </tr>\n",
       "    <tr>\n",
       "      <th>2</th>\n",
       "      <td>0</td>\n",
       "      <td>I did not like this hotel at all. It's very ol...</td>\n",
       "    </tr>\n",
       "    <tr>\n",
       "      <th>3</th>\n",
       "      <td>1</td>\n",
       "      <td>Mill Avenue has a serious issue with parking. ...</td>\n",
       "    </tr>\n",
       "    <tr>\n",
       "      <th>4</th>\n",
       "      <td>1</td>\n",
       "      <td>Favorite sushi place in NV!  Price is reasonab...</td>\n",
       "    </tr>\n",
       "    <tr>\n",
       "      <th>...</th>\n",
       "      <td>...</td>\n",
       "      <td>...</td>\n",
       "    </tr>\n",
       "    <tr>\n",
       "      <th>55995</th>\n",
       "      <td>1</td>\n",
       "      <td>It's time for an update of CVS -\\n\\nIf you are...</td>\n",
       "    </tr>\n",
       "    <tr>\n",
       "      <th>55996</th>\n",
       "      <td>0</td>\n",
       "      <td>I was in the area doing some shopping, and bot...</td>\n",
       "    </tr>\n",
       "    <tr>\n",
       "      <th>55997</th>\n",
       "      <td>0</td>\n",
       "      <td>I did an all Venetian restaurant tour on my mo...</td>\n",
       "    </tr>\n",
       "    <tr>\n",
       "      <th>55998</th>\n",
       "      <td>1</td>\n",
       "      <td>Great atmosphere, good food, profesional servi...</td>\n",
       "    </tr>\n",
       "    <tr>\n",
       "      <th>55999</th>\n",
       "      <td>0</td>\n",
       "      <td>Pizza was not cooked enough, crust was complet...</td>\n",
       "    </tr>\n",
       "  </tbody>\n",
       "</table>\n",
       "<p>56000 rows × 2 columns</p>\n",
       "</div>"
      ],
      "text/plain": [
       "       sentiment                                             review\n",
       "0              1  This place is one of my favorite comic shops. ...\n",
       "1              0  The wait time for an appointment is ridiculous...\n",
       "2              0  I did not like this hotel at all. It's very ol...\n",
       "3              1  Mill Avenue has a serious issue with parking. ...\n",
       "4              1  Favorite sushi place in NV!  Price is reasonab...\n",
       "...          ...                                                ...\n",
       "55995          1  It's time for an update of CVS -\\n\\nIf you are...\n",
       "55996          0  I was in the area doing some shopping, and bot...\n",
       "55997          0  I did an all Venetian restaurant tour on my mo...\n",
       "55998          1  Great atmosphere, good food, profesional servi...\n",
       "55999          0  Pizza was not cooked enough, crust was complet...\n",
       "\n",
       "[56000 rows x 2 columns]"
      ]
     },
     "execution_count": 30,
     "metadata": {},
     "output_type": "execute_result"
    }
   ],
   "source": [
    "df_clean = df.sample(frac=0.1, random_state=42)\n",
    "df_clean = df_clean.reset_index(drop=True)\n",
    "df_clean"
   ]
  },
  {
   "cell_type": "code",
   "execution_count": 31,
   "metadata": {},
   "outputs": [
    {
     "data": {
      "text/plain": [
       "<Axes: xlabel='sentiment', ylabel='count'>"
      ]
     },
     "execution_count": 31,
     "metadata": {},
     "output_type": "execute_result"
    },
    {
     "data": {
      "image/png": "[encoded data removed]",
      "text/plain": [
       "<Figure size 640x480 with 1 Axes>"
      ]
     },
     "metadata": {},
     "output_type": "display_data"
    }
   ],
   "source": [
    "sns.countplot(x='sentiment', data=df_clean)\n"
   ]
  },
  {
   "cell_type": "markdown",
   "metadata": {},
   "source": [
    "## **PREPROCESS TEXT**"
   ]
  },
  {
   "cell_type": "code",
   "execution_count": 32,
   "metadata": {},
   "outputs": [],
   "source": [
    "# Contraction expansion function\n",
    "def expand_contractions(text: str) -> str:\n",
    "    contractions = {\n",
    "        \"don't\": 'do not', \"can't\": 'cannot', \"won't\": 'will not', \"isn't\": 'is not',\n",
    "        \"aren't\": 'are not', \"wasn't\": 'was not', \"weren't\": 'were not', \"hasn't\": 'has not',\n",
    "        \"haven't\": 'have not', \"hadn't\": 'had not', \"doesn't\": 'does not', \"didn't\": 'did not',\n",
    "        \"shouldn't\": 'should not', \"couldn't\": 'could not', \"wouldn't\": 'would not', \"mightn't\": 'might not',\n",
    "        \"mustn't\": 'must not', \"needn't\": 'need not'\n",
    "    }\n",
    "    \n",
    "    for contraction, expanded in contractions.items():\n",
    "        text = text.replace(contraction, expanded)\n",
    "    return text\n"
   ]
  },
  {
   "cell_type": "code",
   "execution_count": null,
   "metadata": {},
   "outputs": [],
   "source": [
    "REPLACE_BY_SPACE_RE = re.compile('[/(){}\\[\\]\\|@,;]')# identify special symbol\n",
    "BAD_SYMBOLS_RE = re.compile('[^0-9a-z #+_]')# identify bad symbol\n",
    "NEGATIVE_WORDS = set(opinion_lexicon.negative())\n",
    "POSITIVE_WORDS = set(opinion_lexicon.positive())\n",
    "def preprocess_rating_text(review):\n",
    "    # remove noise data\n",
    "    review = str(review).lower()\n",
    "    review = expand_contractions(review)\n",
    "    review = REPLACE_BY_SPACE_RE.sub(' ', review)\n",
    "    review = BAD_SYMBOLS_RE.sub('', review)\n",
    "    review = re.sub(r'https*\\S+', ' ', review)  # Remove URLs\n",
    "    review = re.sub(r'[@#]\\S+', ' ', review)   # Remove mentions and hashtags\n",
    "    review = re.sub('<.*?>', '', review)       # Remove HTML tags\n",
    "    tokenizer = word_tokenize(review)\n",
    "    stop_words = set(stopwords.words('english')) - NEGATIVE_WORDS - POSITIVE_WORDS\n",
    "    tokens = [token for token in tokenizer if token not in stop_words]\n",
    "    lemmatizer = WordNetLemmatizer()\n",
    "    tokens = [lemmatizer.lemmatize(word) for word in tokens]\n",
    "    tagged_tokens = pos_tag(tokens)\n",
    "    # Extract key words\n",
    "    processed_tokens = [\n",
    "        word.lower() if tag in ('JJ', 'JJR', 'JJS', 'RB', 'RBR', 'RBS', 'VBD', 'VBG', 'RBS') else word\n",
    "        for word, tag in tagged_tokens\n",
    "        if not (tag == ('VBZ','VBG'))\n",
    "    ]\n",
    "    \n",
    "    processed_review = ' '.join(processed_tokens)\n",
    "    return processed_review"
   ]
  },
  {
   "cell_type": "code",
   "execution_count": 34,
   "metadata": {},
   "outputs": [],
   "source": [
    "df_clean['review'] = df_clean['review'].apply(preprocess_rating_text)\n"
   ]
  },
  {
   "cell_type": "code",
   "execution_count": 35,
   "metadata": {},
   "outputs": [
    {
     "name": "stdout",
     "output_type": "stream",
     "text": [
      "<class 'pandas.core.frame.DataFrame'>\n",
      "RangeIndex: 56000 entries, 0 to 55999\n",
      "Data columns (total 2 columns):\n",
      " #   Column     Non-Null Count  Dtype \n",
      "---  ------     --------------  ----- \n",
      " 0   sentiment  56000 non-null  int64 \n",
      " 1   review     56000 non-null  object\n",
      "dtypes: int64(1), object(1)\n",
      "memory usage: 875.1+ KB\n"
     ]
    }
   ],
   "source": [
    "df_clean.info()"
   ]
  },
  {
   "cell_type": "code",
   "execution_count": 36,
   "metadata": {},
   "outputs": [
    {
     "data": {
      "text/plain": [
       "False"
      ]
     },
     "execution_count": 36,
     "metadata": {},
     "output_type": "execute_result"
    }
   ],
   "source": [
    "df_clean.isnull().sum().any()"
   ]
  },
  {
   "cell_type": "code",
   "execution_count": 37,
   "metadata": {},
   "outputs": [
    {
     "data": {
      "application/vnd.microsoft.datawrangler.viewer.v0+json": {
       "columns": [
        {
         "name": "index",
         "rawType": "int64",
         "type": "integer"
        },
        {
         "name": "sentiment",
         "rawType": "int64",
         "type": "integer"
        },
        {
         "name": "review",
         "rawType": "object",
         "type": "string"
        }
       ],
       "conversionMethod": "pd.DataFrame",
       "ref": "d5659ab3-913d-4bf0-9032-56d50fb76109",
       "rows": [
        [
         "0",
         "1",
         "place one favorite comic shop actually live closer different one drive chandler go one like selection dollar sale get ridiculous deal staff ridiculously friendly usually always walk whatever wanted also cool event time time ive found price reasonable comparable comic shop"
        ],
        [
         "1",
         "0",
         "wait time appointment ridiculous waiting hour half scheduled appointment time people value patient time"
        ],
        [
         "2",
         "0",
         "like hotel old comfort nthe good thing cheap time like room sleep nthere view vega kind room nwhen came room sow trash can conditioner staffnbut casino staff good cute almost like animation moviesbut inside casino"
        ],
        [
         "3",
         "1",
         "mill avenue serious issue parking fan various restaurant street parking situation infuriating park residential area risk getting car towed rush simply needed get food quickly gonnthe restaurant fine good music lot friendly people food delicious line long moved fairly quickly would definitely visit restaurant parking situation seriously need addressed"
        ],
        [
         "4",
         "1",
         "favorite sushi place nv price reasonable food incredible eat every time go la vega"
        ],
        [
         "5",
         "1",
         "absolutely a1 coffee shop comfortable inviting place homey feel right counter there pretty cool art displayed wall well bookshelf packed many book choose want good reading go along coffee staff fast attentive friendly far coffee sweet rich perfect balance two great selection great price great staff overall awesome coffee shop flavor coffee alone enough keep coming back welcoming feel shop overall added bonus regret one little closer live honestly worth minimal travel time tried grouchy john definitely worth check pay coffee shop visit"
        ],
        [
         "6",
         "0",
         "agree probably worst place seafood around corporate atmosphere reminds outback chili enough said"
        ],
        [
         "7",
         "0",
         "room leaking water woke 3am sound water dripping floor called front desk took 5 minute someone pick lady told u move u another room pack stuff move another room move 3am morning way end towernnit took u 56 minute walking reach apparently pyramid leak water according bell boy helped u move put u nice room mold ceiling tired care better one already 4 morning time reached unpacked going check 10 amnnso check ask front desk anything u rude manager come seems already mad u even asking thing yell put better room one view already comp 4 hour sleep would fine room ask better room one leaking water want hear said anything u except comp u free buffet rofl wow thats itnnwe sold took hungry tired get register buffet could find comp like wtf come lady behind register took name room number finally got free thought half week later back house noticed back account 40 change luxor like wtf called charged buffet nni never stay luxor book room luxor regret"
        ],
        [
         "8",
         "0",
         "expensivensound environment okn22 two ticket worth would rather watch movie home also comfortablenwe went saturday night theater empty 2 people theater movie watched parking lot also less half full past used full hard find parking spot let alone doornthey need drop price least 50 would go back"
        ],
        [
         "9",
         "1",
         "forget sexual healing mr marvin gaye need earl healing loooong night plural binge drinking verge alcohol poisoning coincidentally long night surrender x one friend actually woke hospital id credit card cash less nnall need earlsnthankfully maximize efficiency line form wall order one spot slide next watch make fresh sandwich pay next register hand buzzer wait go feel like christmas receive two best warm sandwich worldnn1 americannn2 full montaguennall ive ever ordered ill ever ordernnsanitize hand complimentary wallmounted dispenser consume wash hand drink repeatnnsimilar recharging battery good go hollaa earl"
        ],
        [
         "10",
         "1",
         "could give 10 start think would still give place 11 nni never knew shshi could good located eastern coranado next trader joes place go sushi also good time owner eddie pratically life think matterss back somewhere always awesome cause mean go anyday want time best sushi chef create amazing fish ever hadnnthe roll inventive delicious eddie need sign fast make sushi contest cause im telling would totally win almost tell want handing nni feel part sushi experience sitting bar talking sushi chef believe eddie agrees cause charming engaging make laugh smile well feel welcomednnthis place fairly new major following already go hooked 1st time went delicious wanted go back next day never happens im telling dreamed place danny handroll princess deana roll exact called brother tell much loved told wanted go back next day said yeah understand went 3 day row found kinda gave ok go next day feel bad thanks bro nnif dont want go strip want amazing susithis place go make sure dont already dinner plan night cause guarentee want go back nnthank eddie bring henderson best sushi ever man nnoh writting thinking im sure ill see hour lol nn picture posted"
        ],
        [
         "11",
         "0",
         "craving good burger based coworkers advise decided try blue 32 sport grillnwaitress friendly attentive since first time explained everything fresh made site nni always want explanation seasoning spicy seasoning spicynnthe onion ring seasoned black pepper cayenne pepper onion ring evenly sliced nice crunch 3rd onion ring started really getting hot would suggest using cayenne pepper addin like spicy food nni also ordered blue 32 steak sandwich expected get thinly sliced steak instead got something resembled hamburger cubed steak nthe mushroom sliced rather cubed onion also chopped would nice mushroom onion sliced caramelized together grill tossed grilled steak cheese mixed instead cheese blobbed onnni mom love cook family love eat cooking go eat matter want something either cook home blow away make want try cooking home equal better restaurant resultsnni give blue 32 another try see taste bud telling others saying"
        ],
        [
         "12",
         "0",
         "alwys go umc time 730 closed first thing called make sure contracted insurance said yes thought kid going seen md apn fine diagnosed daughter noro virus bcuz going around time anyways long story short contracted health plan nevada called billing department told know contracted billed insurance wth anyways im stuck 300 bill seeing apn give u prescription next time im sticking umc awesome extra urgent care suck thats r always empty"
        ],
        [
         "13",
         "1",
         "jennifer jehnuine design great work professional year ago created logo business created exactly envisioned turned around project quickly would go back jehnuine design design project recommend friend well"
        ],
        [
         "14",
         "1",
         "love carbs toasted would rather late work take time toast bagel eat untoasted place drew sub toasted toasted perfection served warm little bit golden brown starting appear bread mmmmheaven nnthis place fun vibe reggae music playing really chill worker plenty seating inside sandwich come 3 size 4 inch 12 inch nicely priced pretty extensive menu nni got kali mist delicious bit kick nicely sauced hate dry sandwich wait come back try sub fun selection dessert rice krispies also captain crunch krispy bar cinnamon toast crunch bar fruity pebble bar nnsorry jimmy john wich firehouse sub quiznos every sub place state street im starting love affair cheeba hut"
        ],
        [
         "15",
         "1",
         "530 pm 830 pm mon 16 dec buddy monday night football specialsn 1 draft big draft beer selection blue moon etc n 1 2 sushi roll etc food pretty goodn friendly staff bartendern nice decor fish tank center barnill back sure"
        ],
        [
         "16",
         "1",
         "dig melting pot mean fun fonduefun another yay birthday restaurant week dinner cheese meat course salad good let honest dessert id get 3 course dessert could big pot chocolate cheesecake rise crispies banana strawberry red velvet cake marshmallow dip heavenly understatement ni also dig control cooking time cook steak 10 secondsrare good yongoing large group smart really sample lot stuff menu party 8 peep got 3 different cheese cooking style chocolate service aiiiiiight considering large party coulda better normally would able afford one course 30 everything restaurant week hella great deal"
        ],
        [
         "17",
         "0",
         "much bad attitude unprofessional mediocre result mention nail technician properly recreate nail art upsell remove art repaint toenail nnits almost worth 20 cost would never go"
        ],
        [
         "18",
         "0",
         "weekend 2 cousin decided wanted get hair makeup done platinum entourage made reservation 6pm three people assuming going get hair done 6pm proceed makeup done well come find one makeup artist get hair makeup done different time company gone hollywood normally enough staff member fulfill client need try flipflop thats prick called everyone around one makeup artist according prick flipflop everyone around regardless time made appointment made 6pm chance seen till 645pm stupidest business model company specialize hair makeup customer service garbage sooooooo rude entire situation receptionist want take responsibility mix guy complete prick manner spoke u make matter worse screwed type appointment accused u calling canceling one makeup appointment agree mistake happen time first upset prick came speak u manner dealt entire situation disgusting unprofessional ignorant say anything makeup artist well get anything done due screw ups however cousin got hair done well nothing impressive"
        ],
        [
         "19",
         "0",
         "went alone first moved pittsburgh maybe wouldve better experience alone go alone lot ive never felt awkward walked gooskis everyone turned look came door eye followed took seat booth something face grabbed beer sat drank decided leave rather stay feel friendly maybe ill give second chance based review"
        ],
        [
         "20",
         "1",
         "bad experience favorite restaurant roca akor scottsdale turned yelp rokas capable manager charles responded within hour invited u back made right knew great food thanks charles know great management highly recommend"
        ],
        [
         "21",
         "1",
         "came saturday night summer around 930 quoted u wait time 70 minute heart set place said wed wait best part take phone number text table ready awesome got hang casino get drink table ready seated shown drink menu drink looked amazing unfortunately dd night ordered parmesan sp truffle fry amazing joke best fry ive ever life burger absolutely delicious cooked perfection hardly ever order burger medium get burger medium always well done perfect two friend ordered medium rare could see absolutely medium rare noticeably different medium husband keep list top 5 burger place similar list friend place shot top also ordered oreo shake sticky toffee pudding dessert sticky toffee pudding one time favorite good shake good wish malt option still subpar dessert enough detract 5 star rating also server outfit absolutely hideous truly unflattering ensemble could imagine server thats real criticism hardly relevant"
        ],
        [
         "22",
         "1",
         "say allyoucaneat sushi buffet bad service ambiance definitely better sushimon come quality taste presentationsushimon win competitionnnif mind driving bit strip come sushi place 22 lunch friend went saturdaynnsorry peepssushimon still better"
        ],
        [
         "23",
         "1",
         "breakfast today excellent server fast friendly food hot fresh tasty come back try menu item"
        ],
        [
         "24",
         "1",
         "football king towne tavern brother prince hockey basketball baseball vie crown throughout year court comprised raucous crew kid eating free tuesday night rogue interloper consuming regular drink special lovely pedestalseated princess glorious ranch dressing land often attacked guerilla french fry want themselvesnndecorated traditional sport bar regalia focusing far away upstate new york neighboring new england team towne tavern visible love refugee cruelly cold winter come towne tavern eat drink reminisce homeland cheer carolina team sidenntowne tavern menu highlighted burger sandwich surprising level quality salad high dark green lettuce content rather iceberg many restaurant plane pushnnservice inconsistent tt time however stop u eating takeout order sometimes take longer appear much occurred wonder done purposely waiting bar meal go order another beernnoverall solid place eat staple restaurant fort mill upstate new york transplant native alike"
        ],
        [
         "25",
         "0",
         "dishonest car shop ever utterly disgusted conduct lack ethic employee work herenna week ago noticed two tail light acura took midas closest shop knew open sunday window signage stated clearly free estimate waiting nearly hour technician informed since electrical problem would charge diagnostic fee 75 despite window stating contrarynnafter complaining tell hour ago went ahead honored policy told whatever reason light switch went replaced cost around 200 agree repair woman walked lobby complaining car overheating despite brought shop 3 time paying timennthis enough turn repair ultimately drove home tail light still malfunctioning speaking friend recommended check hondatronics see review took car next day informed lady working problem even mentioned midas told light switch replaced hour later got call back hondatronic stating fixed problem 2 bulb blown total cost 15 nnthank god let midas repair car know talking replacing part 200 replace 2 bulb believe place still business judging review clear ripping people way shady shop make money save money time go somewhere else"
        ],
        [
         "26",
         "0",
         "purchased living social deal 139 said include one night stay king size suite 28 breakfast 50 spa credit however breakfast cost 28 basically disgusting toast burnt part scraped joke 36 got burnt toast greasy egg waiter idea every question asked met im sure wrong answer nnthe dinner cost u 100 mediocre best highlight 30 steak mashed potato even come pay side waiter know much wine came wine glass guessed 4oz pour im 100 dinner waiter know big pour wine like training 101 top left sunglass table table exception family sitting 4 table away course seen came backnnso come find spa credit 50 cover half pathetic massage fiance give better massage freenni liked room clean water park fun however charged account everything fiance account everything also double charged account spa visit 139 turned 900 weary going resort"
        ],
        [
         "27",
         "1",
         "lulu probably favorite restaurant charlotte ambiance truly perfect white tablecloth attentive server perfect romantic evening still casual enough family group friend brunch missed mussel frites awesome overcooked steak recooked without question everything else weve ever lulu outstanding owner staff go beyond make sure customer enjoying love lulu"
        ],
        [
         "28",
         "1",
         "probably best show weve seen far really worth nice theater built especially show amazing try seat first 3 row youll get wet get drink popcorn pretty expensive"
        ],
        [
         "29",
         "0",
         "stayed wynn four night last week first last time staying hotel first beautiful classy place awesome buffet however think disguise underlying problem hotel convenience quiet night staynni go vega often stayed many different hotel strip including encore checkingin never took longer 5 minute hotel except wynn took 40 minute yeah ok busy vega always there convention town basically every daynnthe first night thought ti pirate show turned window pane hitting wind keep mind windy breezy wondering hearing loud noise every couple minute would think ritsy expensive hotel would happen definitely case wynn remember encore well big deal night partying got ta get early next morning business trip good thingnnwhen came time leave checkout even convenience checking tv anyways needed statement copy went registration checkout another 20 minute wasted waiting line overheard one worker tell guest checking 13 minute past checkout time common dare even say guest top f line moved damn slownnwhen finally turn checkout messed bill turn never took credit card information provided checked charged everything saved company corporate card file told charge needed credit card due company policy understand know grab coworker help also understand situation understandable confused person properly tell another situation without confusing hernnafter time finally fixed problem never return know convenience quick checkingin due computer system incompetence care finding know completely discourage people staying hotel"
        ],
        [
         "30",
         "0",
         "went wed grandson birthday got 8 pm sort busy mariaches singing waitress speak english question menu item spanish took u awhile order due language barrier two dish described exactly different section w different price issue serving table time place totally cleared including music son wife got shrimp burro meal fairly fast quite awhile later finished grandson got baconwrapped shrimp hungry eating chip etc 1520 minute later got seafood stuffed fish guess seafood mean shrimp veggie top took hour fiancee get zarande ado relleno grilled whole fish w veggie top request side tortilla come sharing food eating lot chip salsa ceviche starving hungry took couple bite meal packed go grandson leave get early work 930 positive note salsa one best ive ever would like get recipe along chip ceviche nice perk margarita saved u waiting food however although serving generous seafood much flavor overcooked disappointment reading glowing review waitress fault food took long comped u round drink waited last two plate otherwise fairly attentive frustrating trying communicate speaking muy poquito espanol using hand gesture apologize sorry negative experience celebrate birthday"
        ],
        [
         "31",
         "0",
         "dear papago nni love love orange blossom beer pizza pretty fabulous live really far away coming special treat blew last nightnnthe server warned u advance understaffed thing might little slow problem ordered beer beer bite actually wanted pizza thought would take long beer arrived pronto one hour later beer bite leave table next u noshing happily appetizer pizza considered starting bar fight steal slice waiter super nice one second buy line beer bite taking forever cook entire pizza quickly little bite dough look stupid lost order say rather insulting basic knowledge chemistrynni probably back think need time apart nnlove nhungry girl"
        ],
        [
         "32",
         "1",
         "dr amy best made feel like family took care dental situation go tear like last dentist front office staff karla understanding helpfulnthank dr amy staff making feel comfortable welcome"
        ],
        [
         "33",
         "1",
         "ive time let tell great experience every visit one two favorite appetizer nacho carne asada chorizo queso could keep coming back two along beer newly added bar way variety pretty awesome kind tequila wan na try haha im sure problem also patio mister system personally yet ive winter thats one feature im looking forward go summer thing great place go enjoy nice meal familly friend definitely come back"
        ],
        [
         "34",
         "1",
         "weve started making eddy house regular friday routine tonight lebanese special made mama stuffed squash green bean tomato sauce awesome kid swear mac cheese love spice flatbread"
        ],
        [
         "35",
         "0",
         "gigis focused effort superficial marketing material signage brochure packaging etc slick glossy thats appropriate type business focusing core supposed making great cupcake wide selection choosennon sunday afternoon stopped six cupcake six variety six actual cupcake understand need avoid waste shrinkage six theyre made flour water much cost keep variety handnnin term product cake average frosting thick sweet good news pretty look wellpackaged"
        ],
        [
         "36",
         "0",
         "home course play 75 time year recently management change reason forgot golfer supported time tough change making great course remember local guy one replacing divot spending money restaurant making effort support guy even burn green fairway 13 keep change local find another place play said course playing well new way keeping course good condition mowing early raking bunker helped become consistent layout fair every golfer there much trouble even errant shot forgiven desert surround lack tree take wedge generally driver short iron wedge type course front little water bring gas mask would rate rhodes 5 10 worth 18 hole 30 45 round great practice course best lesson great complementary player club saturday alex longer course time took post review great kid steer clear anyone came tuscany full resident rhodes ranch disappointed last 46 month arnold palmer would proud"
        ],
        [
         "37",
         "0",
         "genuinely easiest person please always drove past location asked tried place yet n nwe stood line waiting order elderly woman front u obviously trying best take order first time cashier lady immediately got frustrated scold lady pick tone voice could hear order nif rude enough drive thru asked assistant snapped telling shes occupied hold upnnthen turn order gave benefit doubt best order decided medium burger rudely told mean beef medium burger long story short want write essaynnif love job find new one bad day take moment go breath reason mistreat guest especially never know guest could nnfood came noticed missed lot thing requested disappointed food actually tastey"
        ],
        [
         "38",
         "1",
         "great pizza new menu tried lasagna italian never ate one better mine tell chef also stracciatella soup egg drop soup menu delicious friend loved meal ordered"
        ],
        [
         "39",
         "1",
         "hotel small yet new comfortable loved clean customer service amazingly good free shuttle strip airport would definitely stay paid 21000 september 3rd 6th cristian one staff member amazing always top everything always willing help loved fact although staff young always happy smiling willing help excellent work guy"
        ],
        [
         "40",
         "0",
         "stupid supervisor airport small shuttle get terminal shuttle small bus accommodate luggage people transfer international domestic usually grab luggage take room shuttle far walk stupid ignorant cheap supervisor assume big bus taken u favor something"
        ],
        [
         "41",
         "1",
         "want fast good burger break bank leaving u money fun thing really nice employee"
        ],
        [
         "42",
         "0",
         "read review could wait try place first mistake waited long long time nnfirstly restaurant located small strip mall funky parking went impressed cleanliness certainly smelled wonderful hubby hungry ordered chip dip 2 garlic roll large pizza quickly changed small pizza im doubly glad didnnchips dip arrived hubby thought fantastic thought good hardly life altering chip homemade salt fried hard theyre thick called crispy dip called ranch tasted ranch dressing seasoning lostnnthen pizza arrived reminded guy garlic roll quickly returned 2 foil wrapped roll hubby opened tasted immediately set never picked said cold boring open mine going waste time something badnnthe pizza topping fresh crust crispy thin thick sturdy however sauce virtually seasoning frozen pizza generally flavor shaker oregano another garlic located shaker pepper flake dried parmesan cheese added okay serious issue pizza seasoned afterwards cook jobnni one slice hubby two tossed half small pizza worth savingnnon plus note fountain coke tasted great"
        ],
        [
         "43",
         "0",
         "ive lot thing dry cleaned altered place several hundred dollar worth consistently late couple instance take stuff back redone ive gone convenient location reasonably priced never go back though straw broke camel back recent time alter two suit agreed two week complete work came back three even started told earliest could another week late seriously hard going start search reliable place"
        ],
        [
         "44",
         "1",
         "best buffet ate trip vega dessert bar awesome"
        ],
        [
         "45",
         "1",
         "whoo hoo came visit town looking something consulted yelp found place checked website found church bus race night soldnnthis first time anything like fantastic paid 7 entry plus got bud tallboy complete experience engine loud crowd rowdy bathroom clean else could want night"
        ],
        [
         "46",
         "0",
         "guess would okay place eat youre leaving social security office block literally die old age want one last gyro sandwich go otherwise mehnnwe lunch unremarkable greek salad gyro sandwich without standout feature french fry obviously bag frozen worth calorie sandwich much lettuce enough onion gyro sandwich bland tomato diced top made sandwich unnecessarily messynnthe service friendly dining room bright spacious sunny presence coffee bar definitely plus back"
        ],
        [
         "47",
         "1",
         "reading review owner dave contacted professional apologetic happened refunded deposit try convince wrong simply admitted happened unacceptable often get kind follow service business big prop dave"
        ],
        [
         "48",
         "1",
         "love open 24 hour perfect craving donut often feel allergic milk wed coming often"
        ],
        [
         "49",
         "1",
         "food great poblano chicken sandwhich great taste beer cold best advice try place beer cold great atmosphere girl beautiful food come remember food right service sub par ask manager justin thanks asking stay food jamie great"
        ]
       ],
       "shape": {
        "columns": 2,
        "rows": 56000
       }
      },
      "text/html": [
       "<div>\n",
       "<style scoped>\n",
       "    .dataframe tbody tr th:only-of-type {\n",
       "        vertical-align: middle;\n",
       "    }\n",
       "\n",
       "    .dataframe tbody tr th {\n",
       "        vertical-align: top;\n",
       "    }\n",
       "\n",
       "    .dataframe thead th {\n",
       "        text-align: right;\n",
       "    }\n",
       "</style>\n",
       "<table border=\"1\" class=\"dataframe\">\n",
       "  <thead>\n",
       "    <tr style=\"text-align: right;\">\n",
       "      <th></th>\n",
       "      <th>sentiment</th>\n",
       "      <th>review</th>\n",
       "    </tr>\n",
       "  </thead>\n",
       "  <tbody>\n",
       "    <tr>\n",
       "      <th>0</th>\n",
       "      <td>1</td>\n",
       "      <td>place one favorite comic shop actually live cl...</td>\n",
       "    </tr>\n",
       "    <tr>\n",
       "      <th>1</th>\n",
       "      <td>0</td>\n",
       "      <td>wait time appointment ridiculous waiting hour ...</td>\n",
       "    </tr>\n",
       "    <tr>\n",
       "      <th>2</th>\n",
       "      <td>0</td>\n",
       "      <td>like hotel old comfort nthe good thing cheap t...</td>\n",
       "    </tr>\n",
       "    <tr>\n",
       "      <th>3</th>\n",
       "      <td>1</td>\n",
       "      <td>mill avenue serious issue parking fan various ...</td>\n",
       "    </tr>\n",
       "    <tr>\n",
       "      <th>4</th>\n",
       "      <td>1</td>\n",
       "      <td>favorite sushi place nv price reasonable food ...</td>\n",
       "    </tr>\n",
       "    <tr>\n",
       "      <th>...</th>\n",
       "      <td>...</td>\n",
       "      <td>...</td>\n",
       "    </tr>\n",
       "    <tr>\n",
       "      <th>55995</th>\n",
       "      <td>1</td>\n",
       "      <td>time update cv nnif using extra care card util...</td>\n",
       "    </tr>\n",
       "    <tr>\n",
       "      <th>55996</th>\n",
       "      <td>0</td>\n",
       "      <td>area shopping man decided time eat unfortunate...</td>\n",
       "    </tr>\n",
       "    <tr>\n",
       "      <th>55997</th>\n",
       "      <td>0</td>\n",
       "      <td>venetian restaurant tour recent vega trip dinn...</td>\n",
       "    </tr>\n",
       "    <tr>\n",
       "      <th>55998</th>\n",
       "      <td>1</td>\n",
       "      <td>great atmosphere good food profesional service...</td>\n",
       "    </tr>\n",
       "    <tr>\n",
       "      <th>55999</th>\n",
       "      <td>0</td>\n",
       "      <td>pizza cooked enough crust completely soggy mus...</td>\n",
       "    </tr>\n",
       "  </tbody>\n",
       "</table>\n",
       "<p>56000 rows × 2 columns</p>\n",
       "</div>"
      ],
      "text/plain": [
       "       sentiment                                             review\n",
       "0              1  place one favorite comic shop actually live cl...\n",
       "1              0  wait time appointment ridiculous waiting hour ...\n",
       "2              0  like hotel old comfort nthe good thing cheap t...\n",
       "3              1  mill avenue serious issue parking fan various ...\n",
       "4              1  favorite sushi place nv price reasonable food ...\n",
       "...          ...                                                ...\n",
       "55995          1  time update cv nnif using extra care card util...\n",
       "55996          0  area shopping man decided time eat unfortunate...\n",
       "55997          0  venetian restaurant tour recent vega trip dinn...\n",
       "55998          1  great atmosphere good food profesional service...\n",
       "55999          0  pizza cooked enough crust completely soggy mus...\n",
       "\n",
       "[56000 rows x 2 columns]"
      ]
     },
     "execution_count": 37,
     "metadata": {},
     "output_type": "execute_result"
    }
   ],
   "source": [
    "df_clean"
   ]
  },
  {
   "cell_type": "code",
   "execution_count": 38,
   "metadata": {},
   "outputs": [
    {
     "name": "stdout",
     "output_type": "stream",
     "text": [
      "Average length of reviews after cleaning: 68.13325\n"
     ]
    }
   ],
   "source": [
    "total_length = sum(len(text.split()) for text in df_clean['review'])\n",
    "avg_len = total_length / len(df_clean['review'])\n",
    "print(f\"Average length of reviews after cleaning: {avg_len}\")"
   ]
  },
  {
   "cell_type": "markdown",
   "metadata": {},
   "source": [
    "## **ENCODING TEXT FOR MODEL**"
   ]
  },
  {
   "cell_type": "code",
   "execution_count": 39,
   "metadata": {},
   "outputs": [
    {
     "name": "stdout",
     "output_type": "stream",
     "text": [
      "2.15.0\n",
      "TensorFlow is working!\n"
     ]
    }
   ],
   "source": [
    "import tensorflow as tf\n",
    "print(tf.__version__)\n",
    "print(\"TensorFlow is working!\")\n"
   ]
  },
  {
   "cell_type": "code",
   "execution_count": 40,
   "metadata": {},
   "outputs": [],
   "source": [
    "from tensorflow.keras.preprocessing.text import Tokenizer\n",
    "from tensorflow.keras.preprocessing.sequence import pad_sequences\n",
    "from sklearn.model_selection import train_test_split\n",
    "import numpy as np\n",
    "import joblib as jb"
   ]
  },
  {
   "cell_type": "code",
   "execution_count": 41,
   "metadata": {},
   "outputs": [],
   "source": [
    "train_data, test_data = train_test_split(df_clean, test_size=0.2, random_state=42)"
   ]
  },
  {
   "cell_type": "code",
   "execution_count": 42,
   "metadata": {},
   "outputs": [],
   "source": [
    "maxlen = 200\n",
    "num_words = 5000"
   ]
  },
  {
   "cell_type": "code",
   "execution_count": 43,
   "metadata": {},
   "outputs": [],
   "source": [
    "tokenizer_rating = Tokenizer(num_words=num_words)\n",
    "tokenizer_rating.fit_on_texts(train_data[\"review\"])\n",
    "X_train = pad_sequences(tokenizer_rating.texts_to_sequences(train_data[\"review\"]), maxlen=maxlen)\n",
    "X_test = pad_sequences(tokenizer_rating.texts_to_sequences(test_data[\"review\"]), maxlen=maxlen)"
   ]
  },
  {
   "cell_type": "code",
   "execution_count": 44,
   "metadata": {},
   "outputs": [
    {
     "data": {
      "text/plain": [
       "['tokenizer_rating.pkl']"
      ]
     },
     "execution_count": 44,
     "metadata": {},
     "output_type": "execute_result"
    }
   ],
   "source": [
    "jb.dump(tokenizer_rating,'tokenizer_rating.pkl')"
   ]
  },
  {
   "cell_type": "code",
   "execution_count": 45,
   "metadata": {},
   "outputs": [],
   "source": [
    "y_train = train_data[\"sentiment\"]\n",
    "y_test = test_data[\"sentiment\"]"
   ]
  },
  {
   "cell_type": "markdown",
   "metadata": {},
   "source": [
    "## **TEST LSTM MODEL**"
   ]
  },
  {
   "cell_type": "code",
   "execution_count": 46,
   "metadata": {},
   "outputs": [],
   "source": [
    "from tensorflow.keras.models import Sequential\n",
    "from tensorflow.keras.layers import Embedding, SpatialDropout1D, Bidirectional, LSTM, GlobalMaxPooling1D, Dense, BatchNormalization,Dropout ,  Conv1D\n",
    "from tensorflow.keras.callbacks import EarlyStopping,ReduceLROnPlateau   \n",
    "import tensorflow as tf\n"
   ]
  },
  {
   "cell_type": "code",
   "execution_count": 47,
   "metadata": {},
   "outputs": [
    {
     "name": "stdout",
     "output_type": "stream",
     "text": [
      "WARNING:tensorflow:From c:\\Users\\Admin\\Desktop\\Data projects\\python\\Decision-making-system\\myenv\\Lib\\site-packages\\keras\\src\\backend.py:873: The name tf.get_default_graph is deprecated. Please use tf.compat.v1.get_default_graph instead.\n",
      "\n",
      "WARNING:tensorflow:From c:\\Users\\Admin\\Desktop\\Data projects\\python\\Decision-making-system\\myenv\\Lib\\site-packages\\keras\\src\\optimizers\\__init__.py:309: The name tf.train.Optimizer is deprecated. Please use tf.compat.v1.train.Optimizer instead.\n",
      "\n"
     ]
    }
   ],
   "source": [
    "lstm_model = Sequential()\n",
    "lstm_model.add(Embedding(input_dim=num_words, output_dim=128, input_length=maxlen))\n",
    "lstm_model.add(SpatialDropout1D(0.2))\n",
    "lstm_model.add(LSTM(128, dropout=0.2, recurrent_dropout=0.2))\n",
    "lstm_model.add(Dense(1, activation=\"sigmoid\"))\n",
    "lstm_model.compile(optimizer='adam', loss='binary_crossentropy', metrics=['accuracy'])\n"
   ]
  },
  {
   "cell_type": "code",
   "execution_count": 48,
   "metadata": {},
   "outputs": [
    {
     "name": "stdout",
     "output_type": "stream",
     "text": [
      "Epoch 1/5\n",
      "WARNING:tensorflow:From c:\\Users\\Admin\\Desktop\\Data projects\\python\\Decision-making-system\\myenv\\Lib\\site-packages\\keras\\src\\utils\\tf_utils.py:492: The name tf.ragged.RaggedTensorValue is deprecated. Please use tf.compat.v1.ragged.RaggedTensorValue instead.\n",
      "\n",
      "WARNING:tensorflow:From c:\\Users\\Admin\\Desktop\\Data projects\\python\\Decision-making-system\\myenv\\Lib\\site-packages\\keras\\src\\engine\\base_layer_utils.py:384: The name tf.executing_eagerly_outside_functions is deprecated. Please use tf.compat.v1.executing_eagerly_outside_functions instead.\n",
      "\n",
      "560/560 [==============================] - 118s 206ms/step - loss: 0.3098 - accuracy: 0.8670 - val_loss: 0.2458 - val_accuracy: 0.9022\n",
      "Epoch 2/5\n",
      "560/560 [==============================] - 154s 275ms/step - loss: 0.2133 - accuracy: 0.9183 - val_loss: 0.2422 - val_accuracy: 0.9040\n",
      "Epoch 3/5\n",
      "560/560 [==============================] - 125s 223ms/step - loss: 0.1783 - accuracy: 0.9317 - val_loss: 0.2521 - val_accuracy: 0.9052\n",
      "Epoch 4/5\n",
      "560/560 [==============================] - 140s 249ms/step - loss: 0.1524 - accuracy: 0.9426 - val_loss: 0.2626 - val_accuracy: 0.9030\n",
      "Epoch 5/5\n",
      "560/560 [==============================] - 106s 190ms/step - loss: 0.1348 - accuracy: 0.9501 - val_loss: 0.2737 - val_accuracy: 0.9027\n"
     ]
    }
   ],
   "source": [
    "lstm_model_history = lstm_model.fit(X_train, y_train, epochs=5, batch_size=64, validation_split=0.2)\n"
   ]
  },
  {
   "cell_type": "code",
   "execution_count": 49,
   "metadata": {},
   "outputs": [
    {
     "name": "stdout",
     "output_type": "stream",
     "text": [
      "350/350 [==============================] - 10s 29ms/step - loss: 0.2664 - accuracy: 0.9039\n",
      "\n",
      "Test Set Results:\n",
      "Loss: 0.266\n",
      "Accuracy: 0.904\n"
     ]
    }
   ],
   "source": [
    "test_lstm_results = lstm_model.evaluate(X_test, y_test, verbose=1)\n",
    "\n",
    "print('\\nTest Set Results:')\n",
    "print(f'Loss: {test_lstm_results[0]:.3f}')\n",
    "print(f'Accuracy: {test_lstm_results[1]:.3f}')\n"
   ]
  },
  {
   "cell_type": "code",
   "execution_count": 50,
   "metadata": {},
   "outputs": [
    {
     "data": {
      "image/png": "[encoded data removed]",
      "text/plain": [
       "<Figure size 640x480 with 1 Axes>"
      ]
     },
     "metadata": {},
     "output_type": "display_data"
    }
   ],
   "source": [
    "plt.title('lstm_Loss')\n",
    "plt.plot(lstm_model_history.history['loss'], label='train')\n",
    "plt.plot(lstm_model_history.history['val_loss'], label='test')\n",
    "plt.legend()\n",
    "plt.show()"
   ]
  },
  {
   "cell_type": "code",
   "execution_count": 51,
   "metadata": {},
   "outputs": [
    {
     "data": {
      "image/png": "[encoded data removed]",
      "text/plain": [
       "<Figure size 640x480 with 1 Axes>"
      ]
     },
     "metadata": {},
     "output_type": "display_data"
    }
   ],
   "source": [
    "plt.title('lstm_Accuracy')\n",
    "plt.plot(lstm_model_history.history['accuracy'], label='train')\n",
    "plt.plot(lstm_model_history.history['val_accuracy'], label='test')\n",
    "plt.legend()\n",
    "plt.show()"
   ]
  },
  {
   "cell_type": "code",
   "execution_count": 52,
   "metadata": {},
   "outputs": [
    {
     "data": {
      "text/plain": [
       "['lstm_model_rating.pkl']"
      ]
     },
     "execution_count": 52,
     "metadata": {},
     "output_type": "execute_result"
    }
   ],
   "source": [
    "jb.dump(lstm_model, 'lstm_model_rating.pkl')"
   ]
  },
  {
   "cell_type": "markdown",
   "metadata": {},
   "source": [
    "## **TEST CNN MODEL**"
   ]
  },
  {
   "cell_type": "code",
   "execution_count": 66,
   "metadata": {},
   "outputs": [
    {
     "ename": "ImportError",
     "evalue": "DLL load failed while importing onnxruntime_pybind11_state: A dynamic link library (DLL) initialization routine failed.",
     "output_type": "error",
     "traceback": [
      "\u001b[31m---------------------------------------------------------------------------\u001b[39m",
      "\u001b[31mImportError\u001b[39m                               Traceback (most recent call last)",
      "\u001b[36mCell\u001b[39m\u001b[36m \u001b[39m\u001b[32mIn[66]\u001b[39m\u001b[32m, line 1\u001b[39m\n\u001b[32m----> \u001b[39m\u001b[32m1\u001b[39m \u001b[38;5;28;01mimport\u001b[39;00m\u001b[38;5;250m \u001b[39m\u001b[34;01monnxruntime\u001b[39;00m\n\u001b[32m      2\u001b[39m \u001b[38;5;28mprint\u001b[39m(onnxruntime.__version__)\n",
      "\u001b[36mFile \u001b[39m\u001b[32mc:\\Users\\Admin\\Desktop\\Data projects\\python\\Decision-making-system\\myenv\\Lib\\site-packages\\onnxruntime\\__init__.py:61\u001b[39m\n\u001b[32m     58\u001b[39m \u001b[38;5;28;01mfrom\u001b[39;00m\u001b[38;5;250m \u001b[39m\u001b[34;01monnxruntime\u001b[39;00m\u001b[34;01m.\u001b[39;00m\u001b[34;01mcapi\u001b[39;00m\u001b[38;5;250m \u001b[39m\u001b[38;5;28;01mimport\u001b[39;00m onnxruntime_validation\n\u001b[32m     60\u001b[39m \u001b[38;5;28;01mif\u001b[39;00m import_capi_exception:\n\u001b[32m---> \u001b[39m\u001b[32m61\u001b[39m     \u001b[38;5;28;01mraise\u001b[39;00m import_capi_exception\n\u001b[32m     63\u001b[39m \u001b[38;5;28;01mfrom\u001b[39;00m\u001b[38;5;250m \u001b[39m\u001b[34;01monnxruntime\u001b[39;00m\u001b[34;01m.\u001b[39;00m\u001b[34;01mcapi\u001b[39;00m\u001b[34;01m.\u001b[39;00m\u001b[34;01monnxruntime_inference_collection\u001b[39;00m\u001b[38;5;250m \u001b[39m\u001b[38;5;28;01mimport\u001b[39;00m (\n\u001b[32m     64\u001b[39m     AdapterFormat,  \u001b[38;5;66;03m# noqa: F401\u001b[39;00m\n\u001b[32m     65\u001b[39m     InferenceSession,  \u001b[38;5;66;03m# noqa: F401\u001b[39;00m\n\u001b[32m   (...)\u001b[39m\u001b[32m     69\u001b[39m     SparseTensor,  \u001b[38;5;66;03m# noqa: F401\u001b[39;00m\n\u001b[32m     70\u001b[39m )\n\u001b[32m     72\u001b[39m \u001b[38;5;66;03m# TODO: thiagofc: Temporary experimental namespace for new PyTorch front-end\u001b[39;00m\n",
      "\u001b[36mFile \u001b[39m\u001b[32mc:\\Users\\Admin\\Desktop\\Data projects\\python\\Decision-making-system\\myenv\\Lib\\site-packages\\onnxruntime\\__init__.py:24\u001b[39m\n\u001b[32m     14\u001b[39m \u001b[38;5;66;03m# we need to do device version validation (for example to check Cuda version for an onnxruntime-training package).\u001b[39;00m\n\u001b[32m     15\u001b[39m \u001b[38;5;66;03m# in order to know whether the onnxruntime package is for training it needs\u001b[39;00m\n\u001b[32m     16\u001b[39m \u001b[38;5;66;03m# to do import onnxruntime.training.ortmodule first.\u001b[39;00m\n\u001b[32m   (...)\u001b[39m\u001b[32m     21\u001b[39m \u001b[38;5;66;03m# meaningful messages to the user.\u001b[39;00m\n\u001b[32m     22\u001b[39m \u001b[38;5;66;03m# the saved exception is raised after device version validation.\u001b[39;00m\n\u001b[32m     23\u001b[39m \u001b[38;5;28;01mtry\u001b[39;00m:\n\u001b[32m---> \u001b[39m\u001b[32m24\u001b[39m     \u001b[38;5;28;01mfrom\u001b[39;00m\u001b[38;5;250m \u001b[39m\u001b[34;01monnxruntime\u001b[39;00m\u001b[34;01m.\u001b[39;00m\u001b[34;01mcapi\u001b[39;00m\u001b[34;01m.\u001b[39;00m\u001b[34;01m_pybind_state\u001b[39;00m\u001b[38;5;250m \u001b[39m\u001b[38;5;28;01mimport\u001b[39;00m (\n\u001b[32m     25\u001b[39m         ExecutionMode,  \u001b[38;5;66;03m# noqa: F401\u001b[39;00m\n\u001b[32m     26\u001b[39m         ExecutionOrder,  \u001b[38;5;66;03m# noqa: F401\u001b[39;00m\n\u001b[32m     27\u001b[39m         GraphOptimizationLevel,  \u001b[38;5;66;03m# noqa: F401\u001b[39;00m\n\u001b[32m     28\u001b[39m         LoraAdapter,  \u001b[38;5;66;03m# noqa: F401\u001b[39;00m\n\u001b[32m     29\u001b[39m         ModelMetadata,  \u001b[38;5;66;03m# noqa: F401\u001b[39;00m\n\u001b[32m     30\u001b[39m         NodeArg,  \u001b[38;5;66;03m# noqa: F401\u001b[39;00m\n\u001b[32m     31\u001b[39m         OrtAllocatorType,  \u001b[38;5;66;03m# noqa: F401\u001b[39;00m\n\u001b[32m     32\u001b[39m         OrtArenaCfg,  \u001b[38;5;66;03m# noqa: F401\u001b[39;00m\n\u001b[32m     33\u001b[39m         OrtMemoryInfo,  \u001b[38;5;66;03m# noqa: F401\u001b[39;00m\n\u001b[32m     34\u001b[39m         OrtMemType,  \u001b[38;5;66;03m# noqa: F401\u001b[39;00m\n\u001b[32m     35\u001b[39m         OrtSparseFormat,  \u001b[38;5;66;03m# noqa: F401\u001b[39;00m\n\u001b[32m     36\u001b[39m         RunOptions,  \u001b[38;5;66;03m# noqa: F401\u001b[39;00m\n\u001b[32m     37\u001b[39m         SessionIOBinding,  \u001b[38;5;66;03m# noqa: F401\u001b[39;00m\n\u001b[32m     38\u001b[39m         SessionOptions,  \u001b[38;5;66;03m# noqa: F401\u001b[39;00m\n\u001b[32m     39\u001b[39m         create_and_register_allocator,  \u001b[38;5;66;03m# noqa: F401\u001b[39;00m\n\u001b[32m     40\u001b[39m         create_and_register_allocator_v2,  \u001b[38;5;66;03m# noqa: F401\u001b[39;00m\n\u001b[32m     41\u001b[39m         disable_telemetry_events,  \u001b[38;5;66;03m# noqa: F401\u001b[39;00m\n\u001b[32m     42\u001b[39m         enable_telemetry_events,  \u001b[38;5;66;03m# noqa: F401\u001b[39;00m\n\u001b[32m     43\u001b[39m         get_all_providers,  \u001b[38;5;66;03m# noqa: F401\u001b[39;00m\n\u001b[32m     44\u001b[39m         get_available_providers,  \u001b[38;5;66;03m# noqa: F401\u001b[39;00m\n\u001b[32m     45\u001b[39m         get_build_info,  \u001b[38;5;66;03m# noqa: F401\u001b[39;00m\n\u001b[32m     46\u001b[39m         get_device,  \u001b[38;5;66;03m# noqa: F401\u001b[39;00m\n\u001b[32m     47\u001b[39m         get_version_string,  \u001b[38;5;66;03m# noqa: F401\u001b[39;00m\n\u001b[32m     48\u001b[39m         has_collective_ops,  \u001b[38;5;66;03m# noqa: F401\u001b[39;00m\n\u001b[32m     49\u001b[39m         set_default_logger_severity,  \u001b[38;5;66;03m# noqa: F401\u001b[39;00m\n\u001b[32m     50\u001b[39m         set_default_logger_verbosity,  \u001b[38;5;66;03m# noqa: F401\u001b[39;00m\n\u001b[32m     51\u001b[39m         set_seed,  \u001b[38;5;66;03m# noqa: F401\u001b[39;00m\n\u001b[32m     52\u001b[39m     )\n\u001b[32m     54\u001b[39m     import_capi_exception = \u001b[38;5;28;01mNone\u001b[39;00m\n\u001b[32m     55\u001b[39m \u001b[38;5;28;01mexcept\u001b[39;00m \u001b[38;5;167;01mException\u001b[39;00m \u001b[38;5;28;01mas\u001b[39;00m e:\n",
      "\u001b[36mFile \u001b[39m\u001b[32mc:\\Users\\Admin\\Desktop\\Data projects\\python\\Decision-making-system\\myenv\\Lib\\site-packages\\onnxruntime\\capi\\_pybind_state.py:32\u001b[39m\n\u001b[32m     24\u001b[39m         \u001b[38;5;28;01mif\u001b[39;00m \u001b[38;5;129;01mnot\u001b[39;00m os.path.isfile(os.path.join(system_root, \u001b[33m\"\u001b[39m\u001b[33mSystem32\u001b[39m\u001b[33m\"\u001b[39m, \u001b[33m\"\u001b[39m\u001b[33mvcruntime140_1.dll\u001b[39m\u001b[33m\"\u001b[39m)):\n\u001b[32m     25\u001b[39m             warnings.warn(\u001b[33m\"\u001b[39m\u001b[33mPlease install the 2019 Visual C++ runtime and then try again. \u001b[39m\u001b[33m\"\u001b[39m\n\u001b[32m     26\u001b[39m                           \u001b[33m\"\u001b[39m\u001b[33mIf you\u001b[39m\u001b[33m'\u001b[39m\u001b[33mve installed the runtime in a non-standard location \u001b[39m\u001b[33m\"\u001b[39m\n\u001b[32m     27\u001b[39m                           \u001b[33m\"\u001b[39m\u001b[33m(other than \u001b[39m\u001b[33m%\u001b[39m\u001b[33mSystemRoot\u001b[39m\u001b[33m%\u001b[39m\u001b[38;5;130;01m\\\\\u001b[39;00m\u001b[33mSystem32), \u001b[39m\u001b[33m\"\u001b[39m\n\u001b[32m     28\u001b[39m                           \u001b[33m\"\u001b[39m\u001b[33mmake sure it can be found by setting the correct path.\u001b[39m\u001b[33m\"\u001b[39m)\n\u001b[32m---> \u001b[39m\u001b[32m32\u001b[39m \u001b[38;5;28;01mfrom\u001b[39;00m\u001b[38;5;250m \u001b[39m\u001b[34;01m.\u001b[39;00m\u001b[34;01monnxruntime_pybind11_state\u001b[39;00m\u001b[38;5;250m \u001b[39m\u001b[38;5;28;01mimport\u001b[39;00m *  \u001b[38;5;66;03m# noqa\u001b[39;00m\n",
      "\u001b[31mImportError\u001b[39m: DLL load failed while importing onnxruntime_pybind11_state: A dynamic link library (DLL) initialization routine failed."
     ]
    }
   ],
   "source": [
    "import onnxruntime\n",
    "print(onnxruntime.__version__)"
   ]
  },
  {
   "cell_type": "code",
   "execution_count": 53,
   "metadata": {},
   "outputs": [],
   "source": [
    "# cnn_model = Sequential()\n",
    "# cnn_model.add(Embedding(input_dim=num_words, output_dim=128, input_length=maxlen))\n",
    "# cnn_model.add(SpatialDropout1D(0.2))\n",
    "# cnn_model.add(Conv1D(128, 5, padding = 'same',activation='relu'))\n",
    "# cnn_model.add(GlobalMaxPooling1D())\n",
    "# cnn_model.add(Dropout(0.2))\n",
    "# cnn_model.add(Dense(1, activation='sigmoid'))\n",
    "# cnn_model.compile(optimizer='adam', loss='binary_crossentropy', metrics=['accuracy'])\n",
    "# history_cnn_model = cnn_model.fit(X_train, y_train, epochs=5, batch_size=64, validation_split=0.2)"
   ]
  },
  {
   "cell_type": "code",
   "execution_count": 54,
   "metadata": {},
   "outputs": [],
   "source": [
    "# test_cnn_results = cnn_model.evaluate(X_test, y_test, verbose=1)\n",
    "\n",
    "# print('\\nTest Set Results:')\n",
    "# print(f'Loss: {test_cnn_results[0]:.3f}')\n",
    "# print(f'Accuracy: {test_cnn_results[1]:.3f}')"
   ]
  },
  {
   "cell_type": "code",
   "execution_count": 55,
   "metadata": {},
   "outputs": [],
   "source": [
    "# plt.title('cnn_Loss')\n",
    "# plt.plot(history_cnn_model.history['loss'], label='train')\n",
    "# plt.plot(history_cnn_model.history['val_loss'], label='test')\n",
    "# plt.legend()\n",
    "# plt.show()"
   ]
  },
  {
   "cell_type": "code",
   "execution_count": 56,
   "metadata": {},
   "outputs": [],
   "source": [
    "# plt.title('cnn_accuracy')\n",
    "# plt.plot(history_cnn_model.history['accuracy'], label='train')\n",
    "# plt.plot(history_cnn_model.history['val_accuracy'], label='test')\n",
    "# plt.legend()\n",
    "# plt.show()"
   ]
  },
  {
   "cell_type": "code",
   "execution_count": 57,
   "metadata": {},
   "outputs": [],
   "source": [
    "# jb.dump(cnn_model, 'cnn_model_rating.pkl')"
   ]
  },
  {
   "cell_type": "markdown",
   "metadata": {},
   "source": [
    "## **TEST HYBRID MODEL(LSTM+CNN)**"
   ]
  },
  {
   "cell_type": "code",
   "execution_count": 58,
   "metadata": {},
   "outputs": [],
   "source": [
    "from tensorflow.keras.regularizers import l2"
   ]
  },
  {
   "cell_type": "code",
   "execution_count": 59,
   "metadata": {},
   "outputs": [],
   "source": [
    "hybrid_model = Sequential([\n",
    "    Embedding(input_dim=num_words, output_dim=128, input_length=maxlen),\n",
    "    SpatialDropout1D(0.2),\n",
    "    # Bidirectional LSTM Layer\n",
    "    Bidirectional(LSTM(64, return_sequences=True, dropout=0.2, recurrent_dropout=0.2)),\n",
    "    # 1D Convolutional Layer\n",
    "    Conv1D(128, 5, padding='same', activation='relu'),\n",
    "    BatchNormalization(),\n",
    "    GlobalMaxPooling1D(),\n",
    "    # Dense Layers\n",
    "    Dense(128, activation='relu', kernel_regularizer=l2(0.01)),\n",
    "    BatchNormalization(),\n",
    "    Dropout(0.2),\n",
    "    Dense(64, activation='relu', kernel_regularizer=l2(0.01)),\n",
    "    BatchNormalization(),\n",
    "    Dropout(0.2),\n",
    "    # Output Layer\n",
    "    Dense(1, activation='sigmoid') \n",
    "])\n",
    "\n",
    "hybrid_model.compile(\n",
    "    optimizer='adam',\n",
    "    loss='binary_crossentropy',\n",
    "    metrics=['accuracy']\n",
    ")\n",
    "\n",
    "callbacks = [\n",
    "    ReduceLROnPlateau(\n",
    "        monitor='val_loss',\n",
    "        factor=0.5,\n",
    "        patience=2,\n",
    "        min_lr=1e-5\n",
    "    ),\n",
    "    EarlyStopping(\n",
    "        monitor='val_loss',\n",
    "        patience=3,\n",
    "        restore_best_weights=True\n",
    "    )\n",
    "]\n"
   ]
  },
  {
   "cell_type": "code",
   "execution_count": 60,
   "metadata": {},
   "outputs": [
    {
     "name": "stdout",
     "output_type": "stream",
     "text": [
      "Epoch 1/5\n",
      "560/560 [==============================] - 155s 270ms/step - loss: 1.1625 - accuracy: 0.8475 - val_loss: 0.4576 - val_accuracy: 0.8978 - lr: 0.0010\n",
      "Epoch 2/5\n",
      "560/560 [==============================] - 153s 274ms/step - loss: 0.2826 - accuracy: 0.9117 - val_loss: 0.2577 - val_accuracy: 0.9041 - lr: 0.0010\n",
      "Epoch 3/5\n",
      "560/560 [==============================] - 153s 273ms/step - loss: 0.1985 - accuracy: 0.9252 - val_loss: 0.2484 - val_accuracy: 0.9050 - lr: 0.0010\n",
      "Epoch 4/5\n",
      "560/560 [==============================] - 302s 540ms/step - loss: 0.1671 - accuracy: 0.9385 - val_loss: 0.2539 - val_accuracy: 0.9067 - lr: 0.0010\n",
      "Epoch 5/5\n",
      "560/560 [==============================] - 438s 784ms/step - loss: 0.1419 - accuracy: 0.9484 - val_loss: 0.2850 - val_accuracy: 0.8971 - lr: 0.0010\n"
     ]
    }
   ],
   "source": [
    "hybrid_history = hybrid_model.fit(\n",
    "    X_train,\n",
    "    y_train,\n",
    "    epochs=5,\n",
    "    batch_size=64,\n",
    "    validation_split=0.2,\n",
    "    callbacks=callbacks,\n",
    "    verbose=1\n",
    ")"
   ]
  },
  {
   "cell_type": "code",
   "execution_count": 61,
   "metadata": {},
   "outputs": [
    {
     "name": "stdout",
     "output_type": "stream",
     "text": [
      "350/350 [==============================] - 15s 40ms/step - loss: 0.2834 - accuracy: 0.8979\n",
      "\n",
      "Test Set Results:\n",
      "Loss: 0.283\n",
      "Accuracy: 0.898\n"
     ]
    }
   ],
   "source": [
    "test_hybrid_results = hybrid_model.evaluate(X_test, y_test, verbose=1)\n",
    "\n",
    "print('\\nTest Set Results:')\n",
    "print(f'Loss: {test_hybrid_results[0]:.3f}')\n",
    "print(f'Accuracy: {test_hybrid_results[1]:.3f}')"
   ]
  },
  {
   "cell_type": "code",
   "execution_count": 62,
   "metadata": {},
   "outputs": [
    {
     "data": {
      "image/png": "[encoded data removed]",
      "text/plain": [
       "<Figure size 640x480 with 1 Axes>"
      ]
     },
     "metadata": {},
     "output_type": "display_data"
    }
   ],
   "source": [
    "plt.title('hybrid_Loss')\n",
    "plt.plot(hybrid_history.history['loss'], label='train')\n",
    "plt.plot(hybrid_history.history['val_loss'], label='test')\n",
    "plt.legend()\n",
    "plt.show()"
   ]
  },
  {
   "cell_type": "code",
   "execution_count": 63,
   "metadata": {},
   "outputs": [
    {
     "data": {
      "image/png": "[encoded data removed]",
      "text/plain": [
       "<Figure size 640x480 with 1 Axes>"
      ]
     },
     "metadata": {},
     "output_type": "display_data"
    }
   ],
   "source": [
    "plt.title('hybrid_accuracy')\n",
    "plt.plot(hybrid_history.history['accuracy'], label='train')\n",
    "plt.plot(hybrid_history.history['val_accuracy'], label='test')\n",
    "plt.legend()\n",
    "plt.show()"
   ]
  },
  {
   "cell_type": "code",
   "execution_count": 64,
   "metadata": {},
   "outputs": [
    {
     "data": {
      "text/plain": [
       "['hybrid_model_rating.pkl']"
      ]
     },
     "execution_count": 64,
     "metadata": {},
     "output_type": "execute_result"
    }
   ],
   "source": [
    "jb.dump(hybrid_model, 'hybrid_model_rating.pkl')"
   ]
  },
  {
   "cell_type": "code",
   "execution_count": 65,
   "metadata": {},
   "outputs": [
    {
     "name": "stdout",
     "output_type": "stream",
     "text": [
      "350/350 [==============================] - 17s 46ms/step\n"
     ]
    },
    {
     "data": {
      "text/plain": [
       "array([[6.0758786e-04],\n",
       "       [9.7792000e-01],\n",
       "       [3.7959270e-02],\n",
       "       ...,\n",
       "       [5.4517324e-04],\n",
       "       [6.0002815e-02],\n",
       "       [4.0253773e-03]], dtype=float32)"
      ]
     },
     "execution_count": 65,
     "metadata": {},
     "output_type": "execute_result"
    }
   ],
   "source": [
    "prediction = hybrid_model.predict(X_test)\n",
    "prediction"
   ]
  },
  {
   "cell_type": "markdown",
   "metadata": {},
   "source": [
    "## **=> CHOOSING Hybrid_model AS THE BEST MODEL**"
   ]
  },
  {
   "cell_type": "markdown",
   "metadata": {},
   "source": [
    "## **TEST WITH DATASET**"
   ]
  },
  {
   "cell_type": "code",
   "execution_count": 50,
   "metadata": {},
   "outputs": [
    {
     "data": {
      "text/html": [
       "<div>\n",
       "<style scoped>\n",
       "    .dataframe tbody tr th:only-of-type {\n",
       "        vertical-align: middle;\n",
       "    }\n",
       "\n",
       "    .dataframe tbody tr th {\n",
       "        vertical-align: top;\n",
       "    }\n",
       "\n",
       "    .dataframe thead th {\n",
       "        text-align: right;\n",
       "    }\n",
       "</style>\n",
       "<table border=\"1\" class=\"dataframe\">\n",
       "  <thead>\n",
       "    <tr style=\"text-align: right;\">\n",
       "      <th></th>\n",
       "      <th>review_id</th>\n",
       "      <th>Review</th>\n",
       "    </tr>\n",
       "  </thead>\n",
       "  <tbody>\n",
       "    <tr>\n",
       "      <th>195</th>\n",
       "      <td>NaN</td>\n",
       "      <td>The science book explains concepts in a simple...</td>\n",
       "    </tr>\n",
       "    <tr>\n",
       "      <th>196</th>\n",
       "      <td>NaN</td>\n",
       "      <td>The toaster makes perfect golden-brown toast e...</td>\n",
       "    </tr>\n",
       "    <tr>\n",
       "      <th>197</th>\n",
       "      <td>NaN</td>\n",
       "      <td>The projector produces a bright and clear imag...</td>\n",
       "    </tr>\n",
       "    <tr>\n",
       "      <th>198</th>\n",
       "      <td>NaN</td>\n",
       "      <td>The bookshelf is decent but came with missing ...</td>\n",
       "    </tr>\n",
       "    <tr>\n",
       "      <th>199</th>\n",
       "      <td>NaN</td>\n",
       "      <td>The dining set arrived with scratches on the s...</td>\n",
       "    </tr>\n",
       "  </tbody>\n",
       "</table>\n",
       "</div>"
      ],
      "text/plain": [
       "     review_id                                             Review\n",
       "195        NaN  The science book explains concepts in a simple...\n",
       "196        NaN  The toaster makes perfect golden-brown toast e...\n",
       "197        NaN  The projector produces a bright and clear imag...\n",
       "198        NaN  The bookshelf is decent but came with missing ...\n",
       "199        NaN  The dining set arrived with scratches on the s..."
      ]
     },
     "execution_count": 50,
     "metadata": {},
     "output_type": "execute_result"
    }
   ],
   "source": [
    "hybrid_model = jb.load(\"hybrid_model_rating.pkl\")\n",
    "cnn_model = jb.load(\"cnn_model_rating.pkl\")\n",
    "lstm_model = jb.load(\"lstm_model_rating.pkl\")\n",
    "tokinizer_rating = jb.load(\"tokenizer_rating.pkl\")\n",
    "test_df = pd.read_csv(r\"C:\\Users\\AD\\Desktop\\Data projects\\python\\Decision-making-system\\Data\\review.csv\")\n",
    "test_df.tail()"
   ]
  },
  {
   "cell_type": "code",
   "execution_count": 51,
   "metadata": {},
   "outputs": [],
   "source": [
    "def calculate_rating(ratings):\n",
    "    return [max(0.5, round(rating * 5 * 2) / 2) for rating in ratings]"
   ]
  },
  {
   "cell_type": "code",
   "execution_count": 52,
   "metadata": {},
   "outputs": [],
   "source": [
    "sequences = tokenizer_rating.texts_to_sequences(test_df[\"Review\"])\n",
    "padded_sequences = pad_sequences(sequences, maxlen=200)"
   ]
  },
  {
   "cell_type": "code",
   "execution_count": 53,
   "metadata": {},
   "outputs": [
    {
     "name": "stdout",
     "output_type": "stream",
     "text": [
      "\u001b[1m7/7\u001b[0m \u001b[32m━━━━━━━━━━━━━━━━━━━━\u001b[0m\u001b[37m\u001b[0m \u001b[1m1s\u001b[0m 75ms/step\n"
     ]
    },
    {
     "data": {
      "text/html": [
       "<div>\n",
       "<style scoped>\n",
       "    .dataframe tbody tr th:only-of-type {\n",
       "        vertical-align: middle;\n",
       "    }\n",
       "\n",
       "    .dataframe tbody tr th {\n",
       "        vertical-align: top;\n",
       "    }\n",
       "\n",
       "    .dataframe thead th {\n",
       "        text-align: right;\n",
       "    }\n",
       "</style>\n",
       "<table border=\"1\" class=\"dataframe\">\n",
       "  <thead>\n",
       "    <tr style=\"text-align: right;\">\n",
       "      <th></th>\n",
       "      <th>review_id</th>\n",
       "      <th>Review</th>\n",
       "      <th>Predicted_Rating</th>\n",
       "    </tr>\n",
       "  </thead>\n",
       "  <tbody>\n",
       "    <tr>\n",
       "      <th>0</th>\n",
       "      <td>NaN</td>\n",
       "      <td>The self-help book is very insightful and help...</td>\n",
       "      <td>5.0</td>\n",
       "    </tr>\n",
       "    <tr>\n",
       "      <th>1</th>\n",
       "      <td>NaN</td>\n",
       "      <td>The fan is powerful yet quiet, a perfect combi...</td>\n",
       "      <td>5.0</td>\n",
       "    </tr>\n",
       "    <tr>\n",
       "      <th>2</th>\n",
       "      <td>NaN</td>\n",
       "      <td>The winter coat is warm and looks amazing!</td>\n",
       "      <td>4.5</td>\n",
       "    </tr>\n",
       "    <tr>\n",
       "      <th>3</th>\n",
       "      <td>NaN</td>\n",
       "      <td>The gaming console has top-notch graphics and ...</td>\n",
       "      <td>4.5</td>\n",
       "    </tr>\n",
       "    <tr>\n",
       "      <th>4</th>\n",
       "      <td>NaN</td>\n",
       "      <td>The display started flickering after a week. V...</td>\n",
       "      <td>2.5</td>\n",
       "    </tr>\n",
       "    <tr>\n",
       "      <th>...</th>\n",
       "      <td>...</td>\n",
       "      <td>...</td>\n",
       "      <td>...</td>\n",
       "    </tr>\n",
       "    <tr>\n",
       "      <th>195</th>\n",
       "      <td>NaN</td>\n",
       "      <td>The science book explains concepts in a simple...</td>\n",
       "      <td>4.5</td>\n",
       "    </tr>\n",
       "    <tr>\n",
       "      <th>196</th>\n",
       "      <td>NaN</td>\n",
       "      <td>The toaster makes perfect golden-brown toast e...</td>\n",
       "      <td>5.0</td>\n",
       "    </tr>\n",
       "    <tr>\n",
       "      <th>197</th>\n",
       "      <td>NaN</td>\n",
       "      <td>The projector produces a bright and clear imag...</td>\n",
       "      <td>2.0</td>\n",
       "    </tr>\n",
       "    <tr>\n",
       "      <th>198</th>\n",
       "      <td>NaN</td>\n",
       "      <td>The bookshelf is decent but came with missing ...</td>\n",
       "      <td>0.5</td>\n",
       "    </tr>\n",
       "    <tr>\n",
       "      <th>199</th>\n",
       "      <td>NaN</td>\n",
       "      <td>The dining set arrived with scratches on the s...</td>\n",
       "      <td>1.5</td>\n",
       "    </tr>\n",
       "  </tbody>\n",
       "</table>\n",
       "<p>200 rows × 3 columns</p>\n",
       "</div>"
      ],
      "text/plain": [
       "     review_id                                             Review  \\\n",
       "0          NaN  The self-help book is very insightful and help...   \n",
       "1          NaN  The fan is powerful yet quiet, a perfect combi...   \n",
       "2          NaN         The winter coat is warm and looks amazing!   \n",
       "3          NaN  The gaming console has top-notch graphics and ...   \n",
       "4          NaN  The display started flickering after a week. V...   \n",
       "..         ...                                                ...   \n",
       "195        NaN  The science book explains concepts in a simple...   \n",
       "196        NaN  The toaster makes perfect golden-brown toast e...   \n",
       "197        NaN  The projector produces a bright and clear imag...   \n",
       "198        NaN  The bookshelf is decent but came with missing ...   \n",
       "199        NaN  The dining set arrived with scratches on the s...   \n",
       "\n",
       "     Predicted_Rating  \n",
       "0                 5.0  \n",
       "1                 5.0  \n",
       "2                 4.5  \n",
       "3                 4.5  \n",
       "4                 2.5  \n",
       "..                ...  \n",
       "195               4.5  \n",
       "196               5.0  \n",
       "197               2.0  \n",
       "198               0.5  \n",
       "199               1.5  \n",
       "\n",
       "[200 rows x 3 columns]"
      ]
     },
     "execution_count": 53,
     "metadata": {},
     "output_type": "execute_result"
    }
   ],
   "source": [
    "ratings = hybrid_model.predict(padded_sequences)\n",
    "processed_ratings = calculate_rating(ratings.flatten())  \n",
    "test_df[\"Predicted_Rating\"] = processed_ratings\n",
    "test_df"
   ]
  },
  {
   "cell_type": "code",
   "execution_count": 54,
   "metadata": {},
   "outputs": [],
   "source": [
    "test_df.to_csv(\"review_rating.csv\", index=False)"
   ]
  }
 ],
 "metadata": {
  "kernelspec": {
   "display_name": "myenv",
   "language": "python",
   "name": "python3"
  },
  "language_info": {
   "codemirror_mode": {
    "name": "ipython",
    "version": 3
   },
   "file_extension": ".py",
   "mimetype": "text/x-python",
   "name": "python",
   "nbconvert_exporter": "python",
   "pygments_lexer": "ipython3",
   "version": "3.11.9"
  }
 },
 "nbformat": 4,
 "nbformat_minor": 2
}
